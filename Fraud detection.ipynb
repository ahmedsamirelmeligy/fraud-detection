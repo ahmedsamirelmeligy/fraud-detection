{
 "cells": [
  {
   "cell_type": "code",
   "execution_count": 15,
   "metadata": {
    "execution": {
     "iopub.execute_input": "2021-08-19T21:57:50.91217Z",
     "iopub.status.busy": "2021-08-19T21:57:50.911618Z",
     "iopub.status.idle": "2021-08-19T21:57:52.325685Z",
     "shell.execute_reply": "2021-08-19T21:57:52.324645Z",
     "shell.execute_reply.started": "2021-08-19T21:57:50.912084Z"
    }
   },
   "outputs": [],
   "source": [
    "import pandas as pd\n",
    "import numpy as np\n",
    "import matplotlib.pyplot as plt\n",
    "import seaborn as sns\n",
    "from sklearn.ensemble import RandomForestClassifier\n",
    "from sklearn.model_selection import train_test_split\n",
    "from sklearn import metrics \n",
    "from sklearn.utils import resample\n",
    "from sklearn.cluster import KMeans"
   ]
  },
  {
   "cell_type": "code",
   "execution_count": 16,
   "metadata": {
    "execution": {
     "iopub.execute_input": "2021-08-19T21:57:53.363692Z",
     "iopub.status.busy": "2021-08-19T21:57:53.363341Z",
     "iopub.status.idle": "2021-08-19T21:57:58.185847Z",
     "shell.execute_reply": "2021-08-19T21:57:58.184648Z",
     "shell.execute_reply.started": "2021-08-19T21:57:53.363662Z"
    }
   },
   "outputs": [
    {
     "data": {
      "text/plain": [
       "0    284315\n",
       "1       492\n",
       "Name: Class, dtype: int64"
      ]
     },
     "execution_count": 16,
     "metadata": {},
     "output_type": "execute_result"
    }
   ],
   "source": [
    "#we start by reading the dataset\n",
    "df1 = pd.read_csv('creditcard.csv')\n",
    "df1['Class'].value_counts()"
   ]
  },
  {
   "cell_type": "code",
   "execution_count": 17,
   "metadata": {},
   "outputs": [],
   "source": [
    "df1 = df1.drop('Time',1)"
   ]
  },
  {
   "cell_type": "code",
   "execution_count": 18,
   "metadata": {},
   "outputs": [],
   "source": [
    "df1 = df1[~df1.duplicated()]"
   ]
  },
  {
   "cell_type": "code",
   "execution_count": 19,
   "metadata": {},
   "outputs": [
    {
     "data": {
      "text/html": [
       "<div>\n",
       "<style scoped>\n",
       "    .dataframe tbody tr th:only-of-type {\n",
       "        vertical-align: middle;\n",
       "    }\n",
       "\n",
       "    .dataframe tbody tr th {\n",
       "        vertical-align: top;\n",
       "    }\n",
       "\n",
       "    .dataframe thead th {\n",
       "        text-align: right;\n",
       "    }\n",
       "</style>\n",
       "<table border=\"1\" class=\"dataframe\">\n",
       "  <thead>\n",
       "    <tr style=\"text-align: right;\">\n",
       "      <th></th>\n",
       "      <th>V1</th>\n",
       "      <th>V2</th>\n",
       "      <th>V3</th>\n",
       "      <th>V4</th>\n",
       "      <th>V5</th>\n",
       "      <th>V6</th>\n",
       "      <th>V7</th>\n",
       "      <th>V8</th>\n",
       "      <th>V9</th>\n",
       "      <th>V10</th>\n",
       "      <th>...</th>\n",
       "      <th>V21</th>\n",
       "      <th>V22</th>\n",
       "      <th>V23</th>\n",
       "      <th>V24</th>\n",
       "      <th>V25</th>\n",
       "      <th>V26</th>\n",
       "      <th>V27</th>\n",
       "      <th>V28</th>\n",
       "      <th>Amount</th>\n",
       "      <th>Class</th>\n",
       "    </tr>\n",
       "  </thead>\n",
       "  <tbody>\n",
       "    <tr>\n",
       "      <th>0</th>\n",
       "      <td>-1.359807</td>\n",
       "      <td>-0.072781</td>\n",
       "      <td>2.536347</td>\n",
       "      <td>1.378155</td>\n",
       "      <td>-0.338321</td>\n",
       "      <td>0.462388</td>\n",
       "      <td>0.239599</td>\n",
       "      <td>0.098698</td>\n",
       "      <td>0.363787</td>\n",
       "      <td>0.090794</td>\n",
       "      <td>...</td>\n",
       "      <td>-0.018307</td>\n",
       "      <td>0.277838</td>\n",
       "      <td>-0.110474</td>\n",
       "      <td>0.066928</td>\n",
       "      <td>0.128539</td>\n",
       "      <td>-0.189115</td>\n",
       "      <td>0.133558</td>\n",
       "      <td>-0.021053</td>\n",
       "      <td>149.62</td>\n",
       "      <td>0</td>\n",
       "    </tr>\n",
       "    <tr>\n",
       "      <th>1</th>\n",
       "      <td>1.191857</td>\n",
       "      <td>0.266151</td>\n",
       "      <td>0.166480</td>\n",
       "      <td>0.448154</td>\n",
       "      <td>0.060018</td>\n",
       "      <td>-0.082361</td>\n",
       "      <td>-0.078803</td>\n",
       "      <td>0.085102</td>\n",
       "      <td>-0.255425</td>\n",
       "      <td>-0.166974</td>\n",
       "      <td>...</td>\n",
       "      <td>-0.225775</td>\n",
       "      <td>-0.638672</td>\n",
       "      <td>0.101288</td>\n",
       "      <td>-0.339846</td>\n",
       "      <td>0.167170</td>\n",
       "      <td>0.125895</td>\n",
       "      <td>-0.008983</td>\n",
       "      <td>0.014724</td>\n",
       "      <td>2.69</td>\n",
       "      <td>0</td>\n",
       "    </tr>\n",
       "    <tr>\n",
       "      <th>2</th>\n",
       "      <td>-1.358354</td>\n",
       "      <td>-1.340163</td>\n",
       "      <td>1.773209</td>\n",
       "      <td>0.379780</td>\n",
       "      <td>-0.503198</td>\n",
       "      <td>1.800499</td>\n",
       "      <td>0.791461</td>\n",
       "      <td>0.247676</td>\n",
       "      <td>-1.514654</td>\n",
       "      <td>0.207643</td>\n",
       "      <td>...</td>\n",
       "      <td>0.247998</td>\n",
       "      <td>0.771679</td>\n",
       "      <td>0.909412</td>\n",
       "      <td>-0.689281</td>\n",
       "      <td>-0.327642</td>\n",
       "      <td>-0.139097</td>\n",
       "      <td>-0.055353</td>\n",
       "      <td>-0.059752</td>\n",
       "      <td>378.66</td>\n",
       "      <td>0</td>\n",
       "    </tr>\n",
       "    <tr>\n",
       "      <th>3</th>\n",
       "      <td>-0.966272</td>\n",
       "      <td>-0.185226</td>\n",
       "      <td>1.792993</td>\n",
       "      <td>-0.863291</td>\n",
       "      <td>-0.010309</td>\n",
       "      <td>1.247203</td>\n",
       "      <td>0.237609</td>\n",
       "      <td>0.377436</td>\n",
       "      <td>-1.387024</td>\n",
       "      <td>-0.054952</td>\n",
       "      <td>...</td>\n",
       "      <td>-0.108300</td>\n",
       "      <td>0.005274</td>\n",
       "      <td>-0.190321</td>\n",
       "      <td>-1.175575</td>\n",
       "      <td>0.647376</td>\n",
       "      <td>-0.221929</td>\n",
       "      <td>0.062723</td>\n",
       "      <td>0.061458</td>\n",
       "      <td>123.50</td>\n",
       "      <td>0</td>\n",
       "    </tr>\n",
       "    <tr>\n",
       "      <th>4</th>\n",
       "      <td>-1.158233</td>\n",
       "      <td>0.877737</td>\n",
       "      <td>1.548718</td>\n",
       "      <td>0.403034</td>\n",
       "      <td>-0.407193</td>\n",
       "      <td>0.095921</td>\n",
       "      <td>0.592941</td>\n",
       "      <td>-0.270533</td>\n",
       "      <td>0.817739</td>\n",
       "      <td>0.753074</td>\n",
       "      <td>...</td>\n",
       "      <td>-0.009431</td>\n",
       "      <td>0.798278</td>\n",
       "      <td>-0.137458</td>\n",
       "      <td>0.141267</td>\n",
       "      <td>-0.206010</td>\n",
       "      <td>0.502292</td>\n",
       "      <td>0.219422</td>\n",
       "      <td>0.215153</td>\n",
       "      <td>69.99</td>\n",
       "      <td>0</td>\n",
       "    </tr>\n",
       "  </tbody>\n",
       "</table>\n",
       "<p>5 rows × 30 columns</p>\n",
       "</div>"
      ],
      "text/plain": [
       "         V1        V2        V3        V4        V5        V6        V7  \\\n",
       "0 -1.359807 -0.072781  2.536347  1.378155 -0.338321  0.462388  0.239599   \n",
       "1  1.191857  0.266151  0.166480  0.448154  0.060018 -0.082361 -0.078803   \n",
       "2 -1.358354 -1.340163  1.773209  0.379780 -0.503198  1.800499  0.791461   \n",
       "3 -0.966272 -0.185226  1.792993 -0.863291 -0.010309  1.247203  0.237609   \n",
       "4 -1.158233  0.877737  1.548718  0.403034 -0.407193  0.095921  0.592941   \n",
       "\n",
       "         V8        V9       V10  ...       V21       V22       V23       V24  \\\n",
       "0  0.098698  0.363787  0.090794  ... -0.018307  0.277838 -0.110474  0.066928   \n",
       "1  0.085102 -0.255425 -0.166974  ... -0.225775 -0.638672  0.101288 -0.339846   \n",
       "2  0.247676 -1.514654  0.207643  ...  0.247998  0.771679  0.909412 -0.689281   \n",
       "3  0.377436 -1.387024 -0.054952  ... -0.108300  0.005274 -0.190321 -1.175575   \n",
       "4 -0.270533  0.817739  0.753074  ... -0.009431  0.798278 -0.137458  0.141267   \n",
       "\n",
       "        V25       V26       V27       V28  Amount  Class  \n",
       "0  0.128539 -0.189115  0.133558 -0.021053  149.62      0  \n",
       "1  0.167170  0.125895 -0.008983  0.014724    2.69      0  \n",
       "2 -0.327642 -0.139097 -0.055353 -0.059752  378.66      0  \n",
       "3  0.647376 -0.221929  0.062723  0.061458  123.50      0  \n",
       "4 -0.206010  0.502292  0.219422  0.215153   69.99      0  \n",
       "\n",
       "[5 rows x 30 columns]"
      ]
     },
     "execution_count": 19,
     "metadata": {},
     "output_type": "execute_result"
    }
   ],
   "source": [
    "df1.head()"
   ]
  },
  {
   "cell_type": "code",
   "execution_count": 20,
   "metadata": {},
   "outputs": [],
   "source": [
    "train,test = train_test_split(df1,test_size = 0.2 , random_state = 42)"
   ]
  },
  {
   "cell_type": "code",
   "execution_count": 21,
   "metadata": {},
   "outputs": [
    {
     "data": {
      "text/plain": [
       "0    220148\n",
       "1       382\n",
       "Name: Class, dtype: int64"
      ]
     },
     "execution_count": 21,
     "metadata": {},
     "output_type": "execute_result"
    }
   ],
   "source": [
    "train['Class'].value_counts()"
   ]
  },
  {
   "cell_type": "code",
   "execution_count": 22,
   "metadata": {},
   "outputs": [
    {
     "data": {
      "text/plain": [
       "0    55042\n",
       "1       91\n",
       "Name: Class, dtype: int64"
      ]
     },
     "execution_count": 22,
     "metadata": {},
     "output_type": "execute_result"
    }
   ],
   "source": [
    "test['Class'].value_counts()"
   ]
  },
  {
   "cell_type": "code",
   "execution_count": 23,
   "metadata": {},
   "outputs": [],
   "source": [
    "zeros_class = train[train['Class'] == 0]\n",
    "ones_class = train[train['Class'] == 1]"
   ]
  },
  {
   "cell_type": "code",
   "execution_count": 24,
   "metadata": {},
   "outputs": [],
   "source": [
    "zeros_class = zeros_class.drop('Class',1)"
   ]
  },
  {
   "cell_type": "code",
   "execution_count": 25,
   "metadata": {},
   "outputs": [
    {
     "data": {
      "text/html": [
       "<div>\n",
       "<style scoped>\n",
       "    .dataframe tbody tr th:only-of-type {\n",
       "        vertical-align: middle;\n",
       "    }\n",
       "\n",
       "    .dataframe tbody tr th {\n",
       "        vertical-align: top;\n",
       "    }\n",
       "\n",
       "    .dataframe thead th {\n",
       "        text-align: right;\n",
       "    }\n",
       "</style>\n",
       "<table border=\"1\" class=\"dataframe\">\n",
       "  <thead>\n",
       "    <tr style=\"text-align: right;\">\n",
       "      <th></th>\n",
       "      <th>V1</th>\n",
       "      <th>V2</th>\n",
       "      <th>V3</th>\n",
       "      <th>V4</th>\n",
       "      <th>V5</th>\n",
       "      <th>V6</th>\n",
       "      <th>V7</th>\n",
       "      <th>V8</th>\n",
       "      <th>V9</th>\n",
       "      <th>V10</th>\n",
       "      <th>...</th>\n",
       "      <th>V20</th>\n",
       "      <th>V21</th>\n",
       "      <th>V22</th>\n",
       "      <th>V23</th>\n",
       "      <th>V24</th>\n",
       "      <th>V25</th>\n",
       "      <th>V26</th>\n",
       "      <th>V27</th>\n",
       "      <th>V28</th>\n",
       "      <th>Amount</th>\n",
       "    </tr>\n",
       "  </thead>\n",
       "  <tbody>\n",
       "    <tr>\n",
       "      <th>82602</th>\n",
       "      <td>-0.697561</td>\n",
       "      <td>0.948635</td>\n",
       "      <td>-0.265964</td>\n",
       "      <td>0.232319</td>\n",
       "      <td>2.234194</td>\n",
       "      <td>3.852625</td>\n",
       "      <td>-0.207872</td>\n",
       "      <td>1.360338</td>\n",
       "      <td>-0.780520</td>\n",
       "      <td>-0.483250</td>\n",
       "      <td>...</td>\n",
       "      <td>0.089137</td>\n",
       "      <td>-0.041381</td>\n",
       "      <td>-0.234344</td>\n",
       "      <td>-0.225184</td>\n",
       "      <td>1.016926</td>\n",
       "      <td>0.380123</td>\n",
       "      <td>-0.203681</td>\n",
       "      <td>0.008106</td>\n",
       "      <td>0.036948</td>\n",
       "      <td>19.13</td>\n",
       "    </tr>\n",
       "    <tr>\n",
       "      <th>125045</th>\n",
       "      <td>1.264899</td>\n",
       "      <td>0.049540</td>\n",
       "      <td>-0.952775</td>\n",
       "      <td>-0.070600</td>\n",
       "      <td>2.065511</td>\n",
       "      <td>3.424647</td>\n",
       "      <td>-0.528821</td>\n",
       "      <td>0.854294</td>\n",
       "      <td>-0.038103</td>\n",
       "      <td>0.022971</td>\n",
       "      <td>...</td>\n",
       "      <td>-0.000144</td>\n",
       "      <td>-0.327823</td>\n",
       "      <td>-1.124423</td>\n",
       "      <td>0.106592</td>\n",
       "      <td>0.943713</td>\n",
       "      <td>0.444564</td>\n",
       "      <td>-0.678490</td>\n",
       "      <td>0.031086</td>\n",
       "      <td>0.027166</td>\n",
       "      <td>9.95</td>\n",
       "    </tr>\n",
       "    <tr>\n",
       "      <th>1779</th>\n",
       "      <td>-0.715606</td>\n",
       "      <td>0.513689</td>\n",
       "      <td>0.961015</td>\n",
       "      <td>-1.198394</td>\n",
       "      <td>0.583521</td>\n",
       "      <td>-0.829520</td>\n",
       "      <td>1.320615</td>\n",
       "      <td>-0.439369</td>\n",
       "      <td>0.047655</td>\n",
       "      <td>0.408184</td>\n",
       "      <td>...</td>\n",
       "      <td>0.260249</td>\n",
       "      <td>-0.127502</td>\n",
       "      <td>0.058932</td>\n",
       "      <td>-0.101983</td>\n",
       "      <td>0.020072</td>\n",
       "      <td>-0.306188</td>\n",
       "      <td>0.765075</td>\n",
       "      <td>0.049670</td>\n",
       "      <td>-0.194371</td>\n",
       "      <td>48.76</td>\n",
       "    </tr>\n",
       "    <tr>\n",
       "      <th>90892</th>\n",
       "      <td>-2.139310</td>\n",
       "      <td>2.097059</td>\n",
       "      <td>-0.022686</td>\n",
       "      <td>1.456046</td>\n",
       "      <td>-1.022387</td>\n",
       "      <td>-0.087631</td>\n",
       "      <td>-0.754045</td>\n",
       "      <td>1.604350</td>\n",
       "      <td>-1.025693</td>\n",
       "      <td>-0.911668</td>\n",
       "      <td>...</td>\n",
       "      <td>-0.457860</td>\n",
       "      <td>0.226124</td>\n",
       "      <td>0.268603</td>\n",
       "      <td>-0.026230</td>\n",
       "      <td>0.126653</td>\n",
       "      <td>0.009085</td>\n",
       "      <td>-0.258654</td>\n",
       "      <td>-0.702756</td>\n",
       "      <td>-0.163966</td>\n",
       "      <td>14.99</td>\n",
       "    </tr>\n",
       "    <tr>\n",
       "      <th>107921</th>\n",
       "      <td>-3.026331</td>\n",
       "      <td>1.801124</td>\n",
       "      <td>-1.896878</td>\n",
       "      <td>-2.520847</td>\n",
       "      <td>0.718708</td>\n",
       "      <td>3.298411</td>\n",
       "      <td>-1.318774</td>\n",
       "      <td>1.332548</td>\n",
       "      <td>-0.953841</td>\n",
       "      <td>1.280528</td>\n",
       "      <td>...</td>\n",
       "      <td>-0.349800</td>\n",
       "      <td>0.232285</td>\n",
       "      <td>-1.248408</td>\n",
       "      <td>0.180337</td>\n",
       "      <td>0.949543</td>\n",
       "      <td>0.119986</td>\n",
       "      <td>0.203583</td>\n",
       "      <td>-0.131442</td>\n",
       "      <td>-0.253182</td>\n",
       "      <td>49.99</td>\n",
       "    </tr>\n",
       "  </tbody>\n",
       "</table>\n",
       "<p>5 rows × 29 columns</p>\n",
       "</div>"
      ],
      "text/plain": [
       "              V1        V2        V3        V4        V5        V6        V7  \\\n",
       "82602  -0.697561  0.948635 -0.265964  0.232319  2.234194  3.852625 -0.207872   \n",
       "125045  1.264899  0.049540 -0.952775 -0.070600  2.065511  3.424647 -0.528821   \n",
       "1779   -0.715606  0.513689  0.961015 -1.198394  0.583521 -0.829520  1.320615   \n",
       "90892  -2.139310  2.097059 -0.022686  1.456046 -1.022387 -0.087631 -0.754045   \n",
       "107921 -3.026331  1.801124 -1.896878 -2.520847  0.718708  3.298411 -1.318774   \n",
       "\n",
       "              V8        V9       V10  ...       V20       V21       V22  \\\n",
       "82602   1.360338 -0.780520 -0.483250  ...  0.089137 -0.041381 -0.234344   \n",
       "125045  0.854294 -0.038103  0.022971  ... -0.000144 -0.327823 -1.124423   \n",
       "1779   -0.439369  0.047655  0.408184  ...  0.260249 -0.127502  0.058932   \n",
       "90892   1.604350 -1.025693 -0.911668  ... -0.457860  0.226124  0.268603   \n",
       "107921  1.332548 -0.953841  1.280528  ... -0.349800  0.232285 -1.248408   \n",
       "\n",
       "             V23       V24       V25       V26       V27       V28  Amount  \n",
       "82602  -0.225184  1.016926  0.380123 -0.203681  0.008106  0.036948   19.13  \n",
       "125045  0.106592  0.943713  0.444564 -0.678490  0.031086  0.027166    9.95  \n",
       "1779   -0.101983  0.020072 -0.306188  0.765075  0.049670 -0.194371   48.76  \n",
       "90892  -0.026230  0.126653  0.009085 -0.258654 -0.702756 -0.163966   14.99  \n",
       "107921  0.180337  0.949543  0.119986  0.203583 -0.131442 -0.253182   49.99  \n",
       "\n",
       "[5 rows x 29 columns]"
      ]
     },
     "execution_count": 25,
     "metadata": {},
     "output_type": "execute_result"
    }
   ],
   "source": [
    "zeros_class.head()"
   ]
  },
  {
   "cell_type": "code",
   "execution_count": 26,
   "metadata": {},
   "outputs": [],
   "source": [
    "zeros_class['Amount'] = np.log(zeros_class['Amount']+1)"
   ]
  },
  {
   "cell_type": "code",
   "execution_count": 27,
   "metadata": {},
   "outputs": [],
   "source": [
    "#clustering the zeros to 15000 points\n",
    "km = KMeans(n_clusters = 382)"
   ]
  },
  {
   "cell_type": "code",
   "execution_count": 28,
   "metadata": {},
   "outputs": [
    {
     "data": {
      "text/plain": [
       "KMeans(n_clusters=382)"
      ]
     },
     "execution_count": 28,
     "metadata": {},
     "output_type": "execute_result"
    }
   ],
   "source": [
    "#fitting the data\n",
    "km.fit(zeros_class)"
   ]
  },
  {
   "cell_type": "code",
   "execution_count": 30,
   "metadata": {},
   "outputs": [],
   "source": [
    "new_zeros = pd.DataFrame(km.cluster_centers_, columns = zeros_class.columns)"
   ]
  },
  {
   "cell_type": "code",
   "execution_count": 38,
   "metadata": {},
   "outputs": [],
   "source": [
    "new_zeros['Class'] = np.zeros(382)"
   ]
  },
  {
   "cell_type": "code",
   "execution_count": 34,
   "metadata": {},
   "outputs": [
    {
     "name": "stderr",
     "output_type": "stream",
     "text": [
      "<ipython-input-34-6d29d6ab548f>:1: SettingWithCopyWarning: \n",
      "A value is trying to be set on a copy of a slice from a DataFrame.\n",
      "Try using .loc[row_indexer,col_indexer] = value instead\n",
      "\n",
      "See the caveats in the documentation: https://pandas.pydata.org/pandas-docs/stable/user_guide/indexing.html#returning-a-view-versus-a-copy\n",
      "  ones_class['Amount'] = np.log(ones_class['Amount']+1)\n"
     ]
    }
   ],
   "source": [
    "ones_class['Amount'] = np.log(ones_class['Amount']+1)"
   ]
  },
  {
   "cell_type": "code",
   "execution_count": 39,
   "metadata": {},
   "outputs": [],
   "source": [
    "new_df = pd.concat([new_zeros,ones_class],0)"
   ]
  },
  {
   "cell_type": "code",
   "execution_count": 40,
   "metadata": {},
   "outputs": [
    {
     "data": {
      "text/html": [
       "<div>\n",
       "<style scoped>\n",
       "    .dataframe tbody tr th:only-of-type {\n",
       "        vertical-align: middle;\n",
       "    }\n",
       "\n",
       "    .dataframe tbody tr th {\n",
       "        vertical-align: top;\n",
       "    }\n",
       "\n",
       "    .dataframe thead th {\n",
       "        text-align: right;\n",
       "    }\n",
       "</style>\n",
       "<table border=\"1\" class=\"dataframe\">\n",
       "  <thead>\n",
       "    <tr style=\"text-align: right;\">\n",
       "      <th></th>\n",
       "      <th>V1</th>\n",
       "      <th>V2</th>\n",
       "      <th>V3</th>\n",
       "      <th>V4</th>\n",
       "      <th>V5</th>\n",
       "      <th>V6</th>\n",
       "      <th>V7</th>\n",
       "      <th>V8</th>\n",
       "      <th>V9</th>\n",
       "      <th>V10</th>\n",
       "      <th>...</th>\n",
       "      <th>V21</th>\n",
       "      <th>V22</th>\n",
       "      <th>V23</th>\n",
       "      <th>V24</th>\n",
       "      <th>V25</th>\n",
       "      <th>V26</th>\n",
       "      <th>V27</th>\n",
       "      <th>V28</th>\n",
       "      <th>Amount</th>\n",
       "      <th>Class</th>\n",
       "    </tr>\n",
       "  </thead>\n",
       "  <tbody>\n",
       "    <tr>\n",
       "      <th>0</th>\n",
       "      <td>1.881109</td>\n",
       "      <td>-1.058645</td>\n",
       "      <td>-0.997548</td>\n",
       "      <td>-0.002331</td>\n",
       "      <td>-0.779163</td>\n",
       "      <td>-0.542343</td>\n",
       "      <td>-0.386368</td>\n",
       "      <td>-0.214808</td>\n",
       "      <td>-0.236961</td>\n",
       "      <td>0.775477</td>\n",
       "      <td>...</td>\n",
       "      <td>-0.292841</td>\n",
       "      <td>-0.505692</td>\n",
       "      <td>0.148522</td>\n",
       "      <td>0.084574</td>\n",
       "      <td>-0.246191</td>\n",
       "      <td>-0.058778</td>\n",
       "      <td>-0.013811</td>\n",
       "      <td>-0.019541</td>\n",
       "      <td>4.733770</td>\n",
       "      <td>0.0</td>\n",
       "    </tr>\n",
       "    <tr>\n",
       "      <th>1</th>\n",
       "      <td>-0.716423</td>\n",
       "      <td>0.894898</td>\n",
       "      <td>1.310392</td>\n",
       "      <td>-0.190481</td>\n",
       "      <td>0.098619</td>\n",
       "      <td>-0.339245</td>\n",
       "      <td>0.419477</td>\n",
       "      <td>0.219091</td>\n",
       "      <td>-0.280884</td>\n",
       "      <td>-0.129872</td>\n",
       "      <td>...</td>\n",
       "      <td>-0.153416</td>\n",
       "      <td>-0.494635</td>\n",
       "      <td>-0.029799</td>\n",
       "      <td>-0.009557</td>\n",
       "      <td>-0.217637</td>\n",
       "      <td>0.036771</td>\n",
       "      <td>0.110067</td>\n",
       "      <td>0.036604</td>\n",
       "      <td>1.839738</td>\n",
       "      <td>0.0</td>\n",
       "    </tr>\n",
       "    <tr>\n",
       "      <th>2</th>\n",
       "      <td>1.018543</td>\n",
       "      <td>0.160474</td>\n",
       "      <td>0.076860</td>\n",
       "      <td>1.029893</td>\n",
       "      <td>-0.219822</td>\n",
       "      <td>-0.205072</td>\n",
       "      <td>-0.193263</td>\n",
       "      <td>0.083363</td>\n",
       "      <td>0.624508</td>\n",
       "      <td>-0.724352</td>\n",
       "      <td>...</td>\n",
       "      <td>-0.058359</td>\n",
       "      <td>-0.014736</td>\n",
       "      <td>-0.099757</td>\n",
       "      <td>0.040343</td>\n",
       "      <td>0.389106</td>\n",
       "      <td>0.238547</td>\n",
       "      <td>0.043237</td>\n",
       "      <td>0.035399</td>\n",
       "      <td>3.086229</td>\n",
       "      <td>0.0</td>\n",
       "    </tr>\n",
       "    <tr>\n",
       "      <th>3</th>\n",
       "      <td>-1.399285</td>\n",
       "      <td>-0.549248</td>\n",
       "      <td>1.417276</td>\n",
       "      <td>0.200992</td>\n",
       "      <td>-0.822228</td>\n",
       "      <td>0.371764</td>\n",
       "      <td>-0.007368</td>\n",
       "      <td>0.287271</td>\n",
       "      <td>-1.305285</td>\n",
       "      <td>0.416397</td>\n",
       "      <td>...</td>\n",
       "      <td>-0.135678</td>\n",
       "      <td>-0.066394</td>\n",
       "      <td>0.158107</td>\n",
       "      <td>-0.020684</td>\n",
       "      <td>-0.090838</td>\n",
       "      <td>-0.235839</td>\n",
       "      <td>0.068764</td>\n",
       "      <td>-0.046763</td>\n",
       "      <td>5.086958</td>\n",
       "      <td>0.0</td>\n",
       "    </tr>\n",
       "    <tr>\n",
       "      <th>4</th>\n",
       "      <td>-5.775800</td>\n",
       "      <td>4.094618</td>\n",
       "      <td>-1.582641</td>\n",
       "      <td>-0.023646</td>\n",
       "      <td>-1.047348</td>\n",
       "      <td>3.648046</td>\n",
       "      <td>-5.793114</td>\n",
       "      <td>-14.533907</td>\n",
       "      <td>0.119379</td>\n",
       "      <td>-0.269764</td>\n",
       "      <td>...</td>\n",
       "      <td>3.735559</td>\n",
       "      <td>-1.298892</td>\n",
       "      <td>1.322721</td>\n",
       "      <td>-0.204937</td>\n",
       "      <td>0.044526</td>\n",
       "      <td>0.046078</td>\n",
       "      <td>0.226844</td>\n",
       "      <td>0.156258</td>\n",
       "      <td>2.835325</td>\n",
       "      <td>0.0</td>\n",
       "    </tr>\n",
       "  </tbody>\n",
       "</table>\n",
       "<p>5 rows × 30 columns</p>\n",
       "</div>"
      ],
      "text/plain": [
       "         V1        V2        V3        V4        V5        V6        V7  \\\n",
       "0  1.881109 -1.058645 -0.997548 -0.002331 -0.779163 -0.542343 -0.386368   \n",
       "1 -0.716423  0.894898  1.310392 -0.190481  0.098619 -0.339245  0.419477   \n",
       "2  1.018543  0.160474  0.076860  1.029893 -0.219822 -0.205072 -0.193263   \n",
       "3 -1.399285 -0.549248  1.417276  0.200992 -0.822228  0.371764 -0.007368   \n",
       "4 -5.775800  4.094618 -1.582641 -0.023646 -1.047348  3.648046 -5.793114   \n",
       "\n",
       "          V8        V9       V10  ...       V21       V22       V23       V24  \\\n",
       "0  -0.214808 -0.236961  0.775477  ... -0.292841 -0.505692  0.148522  0.084574   \n",
       "1   0.219091 -0.280884 -0.129872  ... -0.153416 -0.494635 -0.029799 -0.009557   \n",
       "2   0.083363  0.624508 -0.724352  ... -0.058359 -0.014736 -0.099757  0.040343   \n",
       "3   0.287271 -1.305285  0.416397  ... -0.135678 -0.066394  0.158107 -0.020684   \n",
       "4 -14.533907  0.119379 -0.269764  ...  3.735559 -1.298892  1.322721 -0.204937   \n",
       "\n",
       "        V25       V26       V27       V28    Amount  Class  \n",
       "0 -0.246191 -0.058778 -0.013811 -0.019541  4.733770    0.0  \n",
       "1 -0.217637  0.036771  0.110067  0.036604  1.839738    0.0  \n",
       "2  0.389106  0.238547  0.043237  0.035399  3.086229    0.0  \n",
       "3 -0.090838 -0.235839  0.068764 -0.046763  5.086958    0.0  \n",
       "4  0.044526  0.046078  0.226844  0.156258  2.835325    0.0  \n",
       "\n",
       "[5 rows x 30 columns]"
      ]
     },
     "execution_count": 40,
     "metadata": {},
     "output_type": "execute_result"
    }
   ],
   "source": [
    "new_df.head()"
   ]
  },
  {
   "cell_type": "code",
   "execution_count": 41,
   "metadata": {},
   "outputs": [
    {
     "data": {
      "text/plain": [
       "0.0    382\n",
       "1.0    382\n",
       "Name: Class, dtype: int64"
      ]
     },
     "execution_count": 41,
     "metadata": {},
     "output_type": "execute_result"
    }
   ],
   "source": [
    "new_df['Class'].value_counts()"
   ]
  },
  {
   "cell_type": "code",
   "execution_count": 42,
   "metadata": {},
   "outputs": [],
   "source": [
    "clf = RandomForestClassifier()"
   ]
  },
  {
   "cell_type": "code",
   "execution_count": 43,
   "metadata": {},
   "outputs": [],
   "source": [
    "X = new_df.drop('Class',1)\n",
    "y = new_df['Class']"
   ]
  },
  {
   "cell_type": "code",
   "execution_count": 44,
   "metadata": {},
   "outputs": [
    {
     "data": {
      "text/plain": [
       "RandomForestClassifier()"
      ]
     },
     "execution_count": 44,
     "metadata": {},
     "output_type": "execute_result"
    }
   ],
   "source": [
    "clf.fit(X,y)"
   ]
  },
  {
   "cell_type": "code",
   "execution_count": null,
   "metadata": {},
   "outputs": [],
   "source": []
  },
  {
   "cell_type": "code",
   "execution_count": null,
   "metadata": {},
   "outputs": [],
   "source": []
  },
  {
   "cell_type": "code",
   "execution_count": 4,
   "metadata": {
    "execution": {
     "iopub.execute_input": "2021-08-19T21:57:58.188309Z",
     "iopub.status.busy": "2021-08-19T21:57:58.187861Z",
     "iopub.status.idle": "2021-08-19T21:57:59.252525Z",
     "shell.execute_reply": "2021-08-19T21:57:59.251329Z",
     "shell.execute_reply.started": "2021-08-19T21:57:58.188246Z"
    }
   },
   "outputs": [],
   "source": [
    "#dropping the duplicates\n",
    "#df1= df1[~df1.duplicated()]\n",
    "#df1['Class'].value_counts()"
   ]
  },
  {
   "cell_type": "code",
   "execution_count": 5,
   "metadata": {
    "execution": {
     "iopub.execute_input": "2021-08-19T21:57:59.254914Z",
     "iopub.status.busy": "2021-08-19T21:57:59.254609Z",
     "iopub.status.idle": "2021-08-19T21:57:59.283991Z",
     "shell.execute_reply": "2021-08-19T21:57:59.282781Z",
     "shell.execute_reply.started": "2021-08-19T21:57:59.254885Z"
    }
   },
   "outputs": [],
   "source": [
    "X = df1.drop('Class',1)\n",
    "y = df1['Class']"
   ]
  },
  {
   "cell_type": "code",
   "execution_count": 6,
   "metadata": {
    "execution": {
     "iopub.execute_input": "2021-08-19T21:57:59.286995Z",
     "iopub.status.busy": "2021-08-19T21:57:59.286401Z",
     "iopub.status.idle": "2021-08-19T21:57:59.578481Z",
     "shell.execute_reply": "2021-08-19T21:57:59.577466Z",
     "shell.execute_reply.started": "2021-08-19T21:57:59.286945Z"
    }
   },
   "outputs": [],
   "source": [
    "train_x,x_test,train_y,y_test = train_test_split(X,y,test_size = 0.2,random_state = 42)"
   ]
  },
  {
   "cell_type": "code",
   "execution_count": 7,
   "metadata": {
    "execution": {
     "iopub.execute_input": "2021-08-19T21:57:59.580679Z",
     "iopub.status.busy": "2021-08-19T21:57:59.580206Z",
     "iopub.status.idle": "2021-08-19T21:57:59.616736Z",
     "shell.execute_reply": "2021-08-19T21:57:59.615535Z",
     "shell.execute_reply.started": "2021-08-19T21:57:59.580631Z"
    }
   },
   "outputs": [],
   "source": [
    "df = pd.concat([train_x,train_y],1)"
   ]
  },
  {
   "cell_type": "code",
   "execution_count": 8,
   "metadata": {
    "execution": {
     "iopub.execute_input": "2021-08-19T21:57:59.618757Z",
     "iopub.status.busy": "2021-08-19T21:57:59.618326Z",
     "iopub.status.idle": "2021-08-19T21:57:59.655857Z",
     "shell.execute_reply": "2021-08-19T21:57:59.654797Z",
     "shell.execute_reply.started": "2021-08-19T21:57:59.618704Z"
    }
   },
   "outputs": [
    {
     "data": {
      "text/html": [
       "<div>\n",
       "<style scoped>\n",
       "    .dataframe tbody tr th:only-of-type {\n",
       "        vertical-align: middle;\n",
       "    }\n",
       "\n",
       "    .dataframe tbody tr th {\n",
       "        vertical-align: top;\n",
       "    }\n",
       "\n",
       "    .dataframe thead th {\n",
       "        text-align: right;\n",
       "    }\n",
       "</style>\n",
       "<table border=\"1\" class=\"dataframe\">\n",
       "  <thead>\n",
       "    <tr style=\"text-align: right;\">\n",
       "      <th></th>\n",
       "      <th>V1</th>\n",
       "      <th>V2</th>\n",
       "      <th>V3</th>\n",
       "      <th>V4</th>\n",
       "      <th>V5</th>\n",
       "      <th>V6</th>\n",
       "      <th>V7</th>\n",
       "      <th>V8</th>\n",
       "      <th>V9</th>\n",
       "      <th>V10</th>\n",
       "      <th>...</th>\n",
       "      <th>V21</th>\n",
       "      <th>V22</th>\n",
       "      <th>V23</th>\n",
       "      <th>V24</th>\n",
       "      <th>V25</th>\n",
       "      <th>V26</th>\n",
       "      <th>V27</th>\n",
       "      <th>V28</th>\n",
       "      <th>Amount</th>\n",
       "      <th>Class</th>\n",
       "    </tr>\n",
       "  </thead>\n",
       "  <tbody>\n",
       "    <tr>\n",
       "      <th>223361</th>\n",
       "      <td>1.955041</td>\n",
       "      <td>-0.380783</td>\n",
       "      <td>-0.315013</td>\n",
       "      <td>0.330155</td>\n",
       "      <td>-0.509374</td>\n",
       "      <td>-0.086197</td>\n",
       "      <td>-0.627978</td>\n",
       "      <td>0.035994</td>\n",
       "      <td>1.054560</td>\n",
       "      <td>-0.030441</td>\n",
       "      <td>...</td>\n",
       "      <td>0.238197</td>\n",
       "      <td>0.968305</td>\n",
       "      <td>0.053208</td>\n",
       "      <td>-0.278602</td>\n",
       "      <td>-0.044999</td>\n",
       "      <td>-0.216780</td>\n",
       "      <td>0.045168</td>\n",
       "      <td>-0.047145</td>\n",
       "      <td>9.99</td>\n",
       "      <td>0</td>\n",
       "    </tr>\n",
       "    <tr>\n",
       "      <th>165061</th>\n",
       "      <td>-0.400975</td>\n",
       "      <td>-0.626943</td>\n",
       "      <td>1.555339</td>\n",
       "      <td>-2.017772</td>\n",
       "      <td>-0.107769</td>\n",
       "      <td>0.168310</td>\n",
       "      <td>0.017959</td>\n",
       "      <td>-0.401619</td>\n",
       "      <td>0.040378</td>\n",
       "      <td>0.611115</td>\n",
       "      <td>...</td>\n",
       "      <td>-0.153485</td>\n",
       "      <td>0.421703</td>\n",
       "      <td>0.113442</td>\n",
       "      <td>-1.004095</td>\n",
       "      <td>-1.176695</td>\n",
       "      <td>0.361924</td>\n",
       "      <td>-0.370469</td>\n",
       "      <td>-0.144792</td>\n",
       "      <td>45.90</td>\n",
       "      <td>0</td>\n",
       "    </tr>\n",
       "    <tr>\n",
       "      <th>238186</th>\n",
       "      <td>0.072509</td>\n",
       "      <td>0.820566</td>\n",
       "      <td>-0.561351</td>\n",
       "      <td>-0.709897</td>\n",
       "      <td>1.080399</td>\n",
       "      <td>-0.359429</td>\n",
       "      <td>0.787858</td>\n",
       "      <td>0.117276</td>\n",
       "      <td>-0.131275</td>\n",
       "      <td>-0.638222</td>\n",
       "      <td>...</td>\n",
       "      <td>-0.314638</td>\n",
       "      <td>-0.872959</td>\n",
       "      <td>0.083391</td>\n",
       "      <td>0.148178</td>\n",
       "      <td>-0.431459</td>\n",
       "      <td>0.119690</td>\n",
       "      <td>0.206395</td>\n",
       "      <td>0.070288</td>\n",
       "      <td>11.99</td>\n",
       "      <td>0</td>\n",
       "    </tr>\n",
       "    <tr>\n",
       "      <th>150562</th>\n",
       "      <td>-0.535045</td>\n",
       "      <td>1.014587</td>\n",
       "      <td>1.750679</td>\n",
       "      <td>2.769390</td>\n",
       "      <td>0.500089</td>\n",
       "      <td>1.002270</td>\n",
       "      <td>0.847902</td>\n",
       "      <td>-0.081323</td>\n",
       "      <td>0.371579</td>\n",
       "      <td>0.560595</td>\n",
       "      <td>...</td>\n",
       "      <td>0.063525</td>\n",
       "      <td>0.443431</td>\n",
       "      <td>-0.072754</td>\n",
       "      <td>0.448192</td>\n",
       "      <td>-0.655203</td>\n",
       "      <td>-0.181038</td>\n",
       "      <td>-0.093013</td>\n",
       "      <td>-0.064931</td>\n",
       "      <td>117.44</td>\n",
       "      <td>0</td>\n",
       "    </tr>\n",
       "    <tr>\n",
       "      <th>138452</th>\n",
       "      <td>-4.026938</td>\n",
       "      <td>1.897371</td>\n",
       "      <td>-0.429786</td>\n",
       "      <td>-0.029571</td>\n",
       "      <td>-0.855751</td>\n",
       "      <td>-0.480406</td>\n",
       "      <td>-0.435632</td>\n",
       "      <td>1.313760</td>\n",
       "      <td>0.536044</td>\n",
       "      <td>1.221746</td>\n",
       "      <td>...</td>\n",
       "      <td>-0.480691</td>\n",
       "      <td>-0.230369</td>\n",
       "      <td>0.250717</td>\n",
       "      <td>0.066399</td>\n",
       "      <td>0.470787</td>\n",
       "      <td>0.245335</td>\n",
       "      <td>0.286904</td>\n",
       "      <td>-0.322672</td>\n",
       "      <td>25.76</td>\n",
       "      <td>0</td>\n",
       "    </tr>\n",
       "  </tbody>\n",
       "</table>\n",
       "<p>5 rows × 30 columns</p>\n",
       "</div>"
      ],
      "text/plain": [
       "              V1        V2        V3        V4        V5        V6        V7  \\\n",
       "223361  1.955041 -0.380783 -0.315013  0.330155 -0.509374 -0.086197 -0.627978   \n",
       "165061 -0.400975 -0.626943  1.555339 -2.017772 -0.107769  0.168310  0.017959   \n",
       "238186  0.072509  0.820566 -0.561351 -0.709897  1.080399 -0.359429  0.787858   \n",
       "150562 -0.535045  1.014587  1.750679  2.769390  0.500089  1.002270  0.847902   \n",
       "138452 -4.026938  1.897371 -0.429786 -0.029571 -0.855751 -0.480406 -0.435632   \n",
       "\n",
       "              V8        V9       V10  ...       V21       V22       V23  \\\n",
       "223361  0.035994  1.054560 -0.030441  ...  0.238197  0.968305  0.053208   \n",
       "165061 -0.401619  0.040378  0.611115  ... -0.153485  0.421703  0.113442   \n",
       "238186  0.117276 -0.131275 -0.638222  ... -0.314638 -0.872959  0.083391   \n",
       "150562 -0.081323  0.371579  0.560595  ...  0.063525  0.443431 -0.072754   \n",
       "138452  1.313760  0.536044  1.221746  ... -0.480691 -0.230369  0.250717   \n",
       "\n",
       "             V24       V25       V26       V27       V28  Amount  Class  \n",
       "223361 -0.278602 -0.044999 -0.216780  0.045168 -0.047145    9.99      0  \n",
       "165061 -1.004095 -1.176695  0.361924 -0.370469 -0.144792   45.90      0  \n",
       "238186  0.148178 -0.431459  0.119690  0.206395  0.070288   11.99      0  \n",
       "150562  0.448192 -0.655203 -0.181038 -0.093013 -0.064931  117.44      0  \n",
       "138452  0.066399  0.470787  0.245335  0.286904 -0.322672   25.76      0  \n",
       "\n",
       "[5 rows x 30 columns]"
      ]
     },
     "execution_count": 8,
     "metadata": {},
     "output_type": "execute_result"
    }
   ],
   "source": [
    "#the first 5 rows of the dataset\n",
    "df.head()"
   ]
  },
  {
   "cell_type": "code",
   "execution_count": 9,
   "metadata": {
    "execution": {
     "iopub.execute_input": "2021-08-19T21:57:59.657922Z",
     "iopub.status.busy": "2021-08-19T21:57:59.657508Z",
     "iopub.status.idle": "2021-08-19T21:57:59.695723Z",
     "shell.execute_reply": "2021-08-19T21:57:59.694511Z",
     "shell.execute_reply.started": "2021-08-19T21:57:59.657877Z"
    }
   },
   "outputs": [
    {
     "name": "stdout",
     "output_type": "stream",
     "text": [
      "<class 'pandas.core.frame.DataFrame'>\n",
      "Int64Index: 227845 entries, 223361 to 121958\n",
      "Data columns (total 30 columns):\n",
      " #   Column  Non-Null Count   Dtype  \n",
      "---  ------  --------------   -----  \n",
      " 0   V1      227845 non-null  float64\n",
      " 1   V2      227845 non-null  float64\n",
      " 2   V3      227845 non-null  float64\n",
      " 3   V4      227845 non-null  float64\n",
      " 4   V5      227845 non-null  float64\n",
      " 5   V6      227845 non-null  float64\n",
      " 6   V7      227845 non-null  float64\n",
      " 7   V8      227845 non-null  float64\n",
      " 8   V9      227845 non-null  float64\n",
      " 9   V10     227845 non-null  float64\n",
      " 10  V11     227845 non-null  float64\n",
      " 11  V12     227845 non-null  float64\n",
      " 12  V13     227845 non-null  float64\n",
      " 13  V14     227845 non-null  float64\n",
      " 14  V15     227845 non-null  float64\n",
      " 15  V16     227845 non-null  float64\n",
      " 16  V17     227845 non-null  float64\n",
      " 17  V18     227845 non-null  float64\n",
      " 18  V19     227845 non-null  float64\n",
      " 19  V20     227845 non-null  float64\n",
      " 20  V21     227845 non-null  float64\n",
      " 21  V22     227845 non-null  float64\n",
      " 22  V23     227845 non-null  float64\n",
      " 23  V24     227845 non-null  float64\n",
      " 24  V25     227845 non-null  float64\n",
      " 25  V26     227845 non-null  float64\n",
      " 26  V27     227845 non-null  float64\n",
      " 27  V28     227845 non-null  float64\n",
      " 28  Amount  227845 non-null  float64\n",
      " 29  Class   227845 non-null  int64  \n",
      "dtypes: float64(29), int64(1)\n",
      "memory usage: 53.9 MB\n"
     ]
    }
   ],
   "source": [
    "df.info()"
   ]
  },
  {
   "cell_type": "markdown",
   "metadata": {},
   "source": [
    "df1 = df.drop('Class',1)\n",
    "fig, ax = plt.subplots(figsize= (20,20))\n",
    "sns.heatmap(df1.corr(), annot = True,ax = ax)"
   ]
  },
  {
   "cell_type": "code",
   "execution_count": 10,
   "metadata": {
    "execution": {
     "iopub.execute_input": "2021-08-19T21:57:59.699723Z",
     "iopub.status.busy": "2021-08-19T21:57:59.699274Z",
     "iopub.status.idle": "2021-08-19T21:57:59.710999Z",
     "shell.execute_reply": "2021-08-19T21:57:59.709784Z",
     "shell.execute_reply.started": "2021-08-19T21:57:59.699683Z"
    }
   },
   "outputs": [
    {
     "data": {
      "text/plain": [
       "0    227451\n",
       "1       394\n",
       "Name: Class, dtype: int64"
      ]
     },
     "execution_count": 10,
     "metadata": {},
     "output_type": "execute_result"
    }
   ],
   "source": [
    "df['Class'].value_counts()"
   ]
  },
  {
   "cell_type": "code",
   "execution_count": 11,
   "metadata": {
    "execution": {
     "iopub.execute_input": "2021-08-19T21:57:59.713777Z",
     "iopub.status.busy": "2021-08-19T21:57:59.713419Z",
     "iopub.status.idle": "2021-08-19T21:57:59.902804Z",
     "shell.execute_reply": "2021-08-19T21:57:59.901846Z",
     "shell.execute_reply.started": "2021-08-19T21:57:59.713732Z"
    }
   },
   "outputs": [
    {
     "data": {
      "text/plain": [
       "<AxesSubplot:xlabel='Class', ylabel='count'>"
      ]
     },
     "execution_count": 11,
     "metadata": {},
     "output_type": "execute_result"
    },
    {
     "data": {
      "image/png": "[encoded data removed]",
      "text/plain": [
       "<Figure size 432x288 with 1 Axes>"
      ]
     },
     "metadata": {
      "needs_background": "light"
     },
     "output_type": "display_data"
    }
   ],
   "source": [
    "sns.countplot(x = 'Class', data = df)"
   ]
  },
  {
   "cell_type": "code",
   "execution_count": 12,
   "metadata": {
    "execution": {
     "iopub.execute_input": "2021-08-19T21:57:59.90435Z",
     "iopub.status.busy": "2021-08-19T21:57:59.904041Z",
     "iopub.status.idle": "2021-08-19T21:58:00.123953Z",
     "shell.execute_reply": "2021-08-19T21:58:00.12318Z",
     "shell.execute_reply.started": "2021-08-19T21:57:59.904321Z"
    }
   },
   "outputs": [
    {
     "data": {
      "text/plain": [
       "<AxesSubplot:>"
      ]
     },
     "execution_count": 12,
     "metadata": {},
     "output_type": "execute_result"
    },
    {
     "data": {
      "image/png": "[encoded data removed]",
      "text/plain": [
       "<Figure size 432x288 with 1 Axes>"
      ]
     },
     "metadata": {
      "needs_background": "light"
     },
     "output_type": "display_data"
    }
   ],
   "source": [
    "#histogram for the amount \n",
    "df['Amount'].hist(bins = 15)"
   ]
  },
  {
   "cell_type": "code",
   "execution_count": 13,
   "metadata": {
    "execution": {
     "iopub.execute_input": "2021-08-19T21:58:00.125649Z",
     "iopub.status.busy": "2021-08-19T21:58:00.125145Z",
     "iopub.status.idle": "2021-08-19T21:58:00.154877Z",
     "shell.execute_reply": "2021-08-19T21:58:00.153801Z",
     "shell.execute_reply.started": "2021-08-19T21:58:00.125617Z"
    }
   },
   "outputs": [],
   "source": [
    "df['Amount'] = np.log(df['Amount'] + 1)"
   ]
  },
  {
   "cell_type": "code",
   "execution_count": 14,
   "metadata": {
    "execution": {
     "iopub.execute_input": "2021-08-19T21:58:00.156401Z",
     "iopub.status.busy": "2021-08-19T21:58:00.156106Z",
     "iopub.status.idle": "2021-08-19T21:58:00.166322Z",
     "shell.execute_reply": "2021-08-19T21:58:00.165165Z",
     "shell.execute_reply.started": "2021-08-19T21:58:00.156372Z"
    }
   },
   "outputs": [
    {
     "name": "stderr",
     "output_type": "stream",
     "text": [
      "<ipython-input-14-053d9e141b59>:1: SettingWithCopyWarning: \n",
      "A value is trying to be set on a copy of a slice from a DataFrame.\n",
      "Try using .loc[row_indexer,col_indexer] = value instead\n",
      "\n",
      "See the caveats in the documentation: https://pandas.pydata.org/pandas-docs/stable/user_guide/indexing.html#returning-a-view-versus-a-copy\n",
      "  x_test['Amount'] = np.log(x_test['Amount'] + 1)\n"
     ]
    }
   ],
   "source": [
    "x_test['Amount'] = np.log(x_test['Amount'] + 1)"
   ]
  },
  {
   "cell_type": "code",
   "execution_count": 15,
   "metadata": {
    "execution": {
     "iopub.execute_input": "2021-08-19T21:58:00.201552Z",
     "iopub.status.busy": "2021-08-19T21:58:00.201154Z",
     "iopub.status.idle": "2021-08-19T21:58:00.416658Z",
     "shell.execute_reply": "2021-08-19T21:58:00.415519Z",
     "shell.execute_reply.started": "2021-08-19T21:58:00.201518Z"
    }
   },
   "outputs": [
    {
     "data": {
      "text/plain": [
       "<AxesSubplot:>"
      ]
     },
     "execution_count": 15,
     "metadata": {},
     "output_type": "execute_result"
    },
    {
     "data": {
      "image/png": "[encoded data removed]",
      "text/plain": [
       "<Figure size 432x288 with 1 Axes>"
      ]
     },
     "metadata": {
      "needs_background": "light"
     },
     "output_type": "display_data"
    }
   ],
   "source": [
    "df['Amount'].hist(bins = 15)"
   ]
  },
  {
   "cell_type": "code",
   "execution_count": 16,
   "metadata": {
    "execution": {
     "iopub.execute_input": "2021-08-19T21:58:00.418251Z",
     "iopub.status.busy": "2021-08-19T21:58:00.417959Z",
     "iopub.status.idle": "2021-08-19T21:58:00.447556Z",
     "shell.execute_reply": "2021-08-19T21:58:00.446342Z",
     "shell.execute_reply.started": "2021-08-19T21:58:00.418223Z"
    }
   },
   "outputs": [],
   "source": [
    "#making a model for the data as it is \n",
    "X = df.drop('Class',1)\n",
    "y = df['Class']"
   ]
  },
  {
   "cell_type": "code",
   "execution_count": 17,
   "metadata": {
    "execution": {
     "iopub.execute_input": "2021-08-19T21:58:08.906965Z",
     "iopub.status.busy": "2021-08-19T21:58:08.906611Z",
     "iopub.status.idle": "2021-08-19T21:58:08.910477Z",
     "shell.execute_reply": "2021-08-19T21:58:08.909733Z",
     "shell.execute_reply.started": "2021-08-19T21:58:08.906935Z"
    }
   },
   "outputs": [],
   "source": [
    "#we are going to use random forest for this classification problem \n",
    "clf = RandomForestClassifier()"
   ]
  },
  {
   "cell_type": "code",
   "execution_count": 18,
   "metadata": {
    "execution": {
     "iopub.execute_input": "2021-08-19T21:58:09.427629Z",
     "iopub.status.busy": "2021-08-19T21:58:09.427247Z",
     "iopub.status.idle": "2021-08-19T21:58:09.435197Z",
     "shell.execute_reply": "2021-08-19T21:58:09.433855Z",
     "shell.execute_reply.started": "2021-08-19T21:58:09.427596Z"
    }
   },
   "outputs": [],
   "source": [
    "def classification (model,x_train,x_test,y_train,y_test):\n",
    "    model.fit(x_train,y_train)\n",
    "    y_pred = model.predict(x_test)\n",
    "    print('================================================================================')\n",
    "    print('Test accuracy full data : ',metrics.accuracy_score(y_test,y_pred))\n",
    "    print('================================================================================')\n",
    "    print('The classification report for the full data \\n')\n",
    "    print(metrics.classification_report(y_test,y_pred))\n",
    "    print('================================================================================')\n",
    "    print('The area under the curve for the full data: ', metrics.roc_auc_score(y_test,y_pred))\n",
    "    print('================================================================================')\n",
    "    print('Confusion matrix: \\n',metrics.confusion_matrix(y_test,y_pred))\n",
    "    print('================================================================================')\n",
    "    metrics.plot_confusion_matrix(model,x_test,y_test,values_format = 'd',display_labels = ['No Fraud','Fraud'])\n",
    "    print('================================================================================')"
   ]
  },
  {
   "cell_type": "code",
   "execution_count": 19,
   "metadata": {
    "execution": {
     "iopub.execute_input": "2021-08-19T21:58:10.247663Z",
     "iopub.status.busy": "2021-08-19T21:58:10.247219Z",
     "iopub.status.idle": "2021-08-19T22:02:22.635564Z",
     "shell.execute_reply": "2021-08-19T22:02:22.634523Z",
     "shell.execute_reply.started": "2021-08-19T21:58:10.247629Z"
    }
   },
   "outputs": [
    {
     "name": "stdout",
     "output_type": "stream",
     "text": [
      "================================================================================\n",
      "Test accuracy full data :  0.9995786664794073\n",
      "================================================================================\n",
      "The classification report for the full data \n",
      "\n",
      "              precision    recall  f1-score   support\n",
      "\n",
      "           0       1.00      1.00      1.00     56864\n",
      "           1       0.97      0.78      0.86        98\n",
      "\n",
      "    accuracy                           1.00     56962\n",
      "   macro avg       0.99      0.89      0.93     56962\n",
      "weighted avg       1.00      1.00      1.00     56962\n",
      "\n",
      "================================================================================\n",
      "The area under the curve for the full data:  0.8877375162220206\n",
      "================================================================================\n",
      "Confusion matrix: \n",
      " [[56862     2]\n",
      " [   22    76]]\n",
      "================================================================================\n",
      "================================================================================\n"
     ]
    },
    {
     "data": {
      "image/png": "[encoded data removed]",
      "text/plain": [
       "<Figure size 432x288 with 2 Axes>"
      ]
     },
     "metadata": {
      "needs_background": "light"
     },
     "output_type": "display_data"
    }
   ],
   "source": [
    "classification(clf,X,x_test,y,y_test)"
   ]
  },
  {
   "cell_type": "code",
   "execution_count": 20,
   "metadata": {
    "execution": {
     "iopub.execute_input": "2021-08-19T20:57:56.922244Z",
     "iopub.status.busy": "2021-08-19T20:57:56.921739Z",
     "iopub.status.idle": "2021-08-19T20:57:56.926769Z",
     "shell.execute_reply": "2021-08-19T20:57:56.925696Z",
     "shell.execute_reply.started": "2021-08-19T20:57:56.922192Z"
    }
   },
   "outputs": [],
   "source": [
    "#here we have a 75% recall for the fraud class and AUC of 87.3% which means that there is some room for improvement"
   ]
  },
  {
   "cell_type": "code",
   "execution_count": 21,
   "metadata": {
    "execution": {
     "iopub.execute_input": "2021-08-19T22:02:31.993171Z",
     "iopub.status.busy": "2021-08-19T22:02:31.992729Z",
     "iopub.status.idle": "2021-08-19T22:02:32.009426Z",
     "shell.execute_reply": "2021-08-19T22:02:32.008235Z",
     "shell.execute_reply.started": "2021-08-19T22:02:31.993132Z"
    }
   },
   "outputs": [],
   "source": [
    "#now we are going to use the feature importance method on the columns to determine if there are some features that we can drop \n",
    "feature_importance = pd.DataFrame(clf.feature_importances_,index = X.columns,columns = ['Importance'])"
   ]
  },
  {
   "cell_type": "code",
   "execution_count": 22,
   "metadata": {
    "execution": {
     "iopub.execute_input": "2021-08-19T22:02:32.914244Z",
     "iopub.status.busy": "2021-08-19T22:02:32.913869Z",
     "iopub.status.idle": "2021-08-19T22:02:33.303262Z",
     "shell.execute_reply": "2021-08-19T22:02:33.302151Z",
     "shell.execute_reply.started": "2021-08-19T22:02:32.914213Z"
    }
   },
   "outputs": [
    {
     "data": {
      "text/plain": [
       "<AxesSubplot:>"
      ]
     },
     "execution_count": 22,
     "metadata": {},
     "output_type": "execute_result"
    },
    {
     "data": {
      "image/png": "[encoded data removed]",
      "text/plain": [
       "<Figure size 432x288 with 1 Axes>"
      ]
     },
     "metadata": {
      "needs_background": "light"
     },
     "output_type": "display_data"
    }
   ],
   "source": [
    "feature_importance['Importance'].plot.bar()"
   ]
  },
  {
   "cell_type": "code",
   "execution_count": 23,
   "metadata": {
    "execution": {
     "iopub.execute_input": "2021-08-19T22:02:39.994954Z",
     "iopub.status.busy": "2021-08-19T22:02:39.994434Z",
     "iopub.status.idle": "2021-08-19T22:02:39.999918Z",
     "shell.execute_reply": "2021-08-19T22:02:39.999082Z",
     "shell.execute_reply.started": "2021-08-19T22:02:39.994922Z"
    }
   },
   "outputs": [],
   "source": [
    "feature_importance = feature_importance[feature_importance['Importance'] >= 0.02]"
   ]
  },
  {
   "cell_type": "code",
   "execution_count": 24,
   "metadata": {
    "execution": {
     "iopub.execute_input": "2021-08-19T22:02:41.650445Z",
     "iopub.status.busy": "2021-08-19T22:02:41.64981Z",
     "iopub.status.idle": "2021-08-19T22:02:41.655107Z",
     "shell.execute_reply": "2021-08-19T22:02:41.654376Z",
     "shell.execute_reply.started": "2021-08-19T22:02:41.65041Z"
    }
   },
   "outputs": [
    {
     "name": "stdout",
     "output_type": "stream",
     "text": [
      "['V4', 'V7', 'V9', 'V10', 'V11', 'V12', 'V14', 'V16', 'V17', 'V18', 'V21']\n"
     ]
    }
   ],
   "source": [
    "cols = list(feature_importance.index)\n",
    "print(cols)"
   ]
  },
  {
   "cell_type": "code",
   "execution_count": 25,
   "metadata": {
    "execution": {
     "iopub.execute_input": "2021-08-19T22:02:44.03686Z",
     "iopub.status.busy": "2021-08-19T22:02:44.036355Z",
     "iopub.status.idle": "2021-08-19T22:02:44.051931Z",
     "shell.execute_reply": "2021-08-19T22:02:44.051087Z",
     "shell.execute_reply.started": "2021-08-19T22:02:44.036828Z"
    }
   },
   "outputs": [],
   "source": [
    "X_fi_rf = X[cols]"
   ]
  },
  {
   "cell_type": "code",
   "execution_count": 26,
   "metadata": {
    "execution": {
     "iopub.execute_input": "2021-08-19T22:02:44.770552Z",
     "iopub.status.busy": "2021-08-19T22:02:44.770003Z",
     "iopub.status.idle": "2021-08-19T22:02:44.77756Z",
     "shell.execute_reply": "2021-08-19T22:02:44.776645Z",
     "shell.execute_reply.started": "2021-08-19T22:02:44.770519Z"
    }
   },
   "outputs": [],
   "source": [
    "x_test_fi = x_test[cols]"
   ]
  },
  {
   "cell_type": "code",
   "execution_count": 27,
   "metadata": {
    "execution": {
     "iopub.execute_input": "2021-08-19T22:02:46.364055Z",
     "iopub.status.busy": "2021-08-19T22:02:46.363691Z",
     "iopub.status.idle": "2021-08-19T22:02:46.368556Z",
     "shell.execute_reply": "2021-08-19T22:02:46.367406Z",
     "shell.execute_reply.started": "2021-08-19T22:02:46.364025Z"
    }
   },
   "outputs": [],
   "source": [
    "clf_rf = RandomForestClassifier()"
   ]
  },
  {
   "cell_type": "code",
   "execution_count": 28,
   "metadata": {
    "execution": {
     "iopub.execute_input": "2021-08-19T22:02:47.222232Z",
     "iopub.status.busy": "2021-08-19T22:02:47.221871Z",
     "iopub.status.idle": "2021-08-19T22:05:16.582912Z",
     "shell.execute_reply": "2021-08-19T22:05:16.581551Z",
     "shell.execute_reply.started": "2021-08-19T22:02:47.222199Z"
    }
   },
   "outputs": [
    {
     "name": "stdout",
     "output_type": "stream",
     "text": [
      "================================================================================\n",
      "Test accuracy full data :  0.9996137776061234\n",
      "================================================================================\n",
      "The classification report for the full data \n",
      "\n",
      "              precision    recall  f1-score   support\n",
      "\n",
      "           0       1.00      1.00      1.00     56864\n",
      "           1       0.99      0.79      0.88        98\n",
      "\n",
      "    accuracy                           1.00     56962\n",
      "   macro avg       0.99      0.89      0.94     56962\n",
      "weighted avg       1.00      1.00      1.00     56962\n",
      "\n",
      "================================================================================\n",
      "The area under the curve for the full data:  0.892848349947745\n",
      "================================================================================\n",
      "Confusion matrix: \n",
      " [[56863     1]\n",
      " [   21    77]]\n",
      "================================================================================\n",
      "================================================================================\n"
     ]
    },
    {
     "data": {
      "image/png": "[encoded data removed]",
      "text/plain": [
       "<Figure size 432x288 with 2 Axes>"
      ]
     },
     "metadata": {
      "needs_background": "light"
     },
     "output_type": "display_data"
    }
   ],
   "source": [
    "classification(clf_rf,X_fi_rf,x_test_fi,y,y_test)"
   ]
  },
  {
   "cell_type": "code",
   "execution_count": 29,
   "metadata": {
    "execution": {
     "iopub.execute_input": "2021-08-19T22:08:55.187832Z",
     "iopub.status.busy": "2021-08-19T22:08:55.187429Z",
     "iopub.status.idle": "2021-08-19T22:08:55.733311Z",
     "shell.execute_reply": "2021-08-19T22:08:55.732204Z",
     "shell.execute_reply.started": "2021-08-19T22:08:55.187798Z"
    }
   },
   "outputs": [],
   "source": [
    "#oversampling using smote \n",
    "from imblearn.over_sampling import SMOTE\n",
    "sm = SMOTE(sampling_strategy='auto', random_state=42, k_neighbors=5)\n",
    "X_new,y_new = sm.fit_resample(X,y)"
   ]
  },
  {
   "cell_type": "code",
   "execution_count": 30,
   "metadata": {
    "execution": {
     "iopub.execute_input": "2021-08-19T22:09:09.275153Z",
     "iopub.status.busy": "2021-08-19T22:09:09.274772Z",
     "iopub.status.idle": "2021-08-19T22:09:09.290773Z",
     "shell.execute_reply": "2021-08-19T22:09:09.288572Z",
     "shell.execute_reply.started": "2021-08-19T22:09:09.275109Z"
    }
   },
   "outputs": [
    {
     "data": {
      "text/plain": [
       "0    227451\n",
       "1    227451\n",
       "Name: Class, dtype: int64"
      ]
     },
     "execution_count": 30,
     "metadata": {},
     "output_type": "execute_result"
    }
   ],
   "source": [
    "y_new.value_counts()"
   ]
  },
  {
   "cell_type": "code",
   "execution_count": 31,
   "metadata": {
    "execution": {
     "iopub.execute_input": "2021-08-19T22:09:13.443827Z",
     "iopub.status.busy": "2021-08-19T22:09:13.443452Z",
     "iopub.status.idle": "2021-08-19T22:09:13.448512Z",
     "shell.execute_reply": "2021-08-19T22:09:13.447275Z",
     "shell.execute_reply.started": "2021-08-19T22:09:13.443797Z"
    }
   },
   "outputs": [],
   "source": [
    "#training after oversampling \n",
    "clf_ov = RandomForestClassifier()"
   ]
  },
  {
   "cell_type": "code",
   "execution_count": 33,
   "metadata": {
    "execution": {
     "iopub.execute_input": "2021-08-19T22:09:32.665809Z",
     "iopub.status.busy": "2021-08-19T22:09:32.665162Z",
     "iopub.status.idle": "2021-08-19T22:17:49.835455Z",
     "shell.execute_reply": "2021-08-19T22:17:49.834356Z",
     "shell.execute_reply.started": "2021-08-19T22:09:32.665772Z"
    }
   },
   "outputs": [
    {
     "name": "stdout",
     "output_type": "stream",
     "text": [
      "================================================================================\n",
      "Test accuracy full data :  0.9995786664794073\n",
      "================================================================================\n",
      "The classification report for the full data \n",
      "\n",
      "              precision    recall  f1-score   support\n",
      "\n",
      "           0       1.00      1.00      1.00     56864\n",
      "           1       0.89      0.86      0.88        98\n",
      "\n",
      "    accuracy                           1.00     56962\n",
      "   macro avg       0.95      0.93      0.94     56962\n",
      "weighted avg       1.00      1.00      1.00     56962\n",
      "\n",
      "================================================================================\n",
      "The area under the curve for the full data:  0.9284834994774501\n",
      "================================================================================\n",
      "Confusion matrix: \n",
      " [[56854    10]\n",
      " [   14    84]]\n",
      "================================================================================\n",
      "================================================================================\n"
     ]
    },
    {
     "data": {
      "image/png": "[encoded data removed]",
      "text/plain": [
       "<Figure size 432x288 with 2 Axes>"
      ]
     },
     "metadata": {
      "needs_background": "light"
     },
     "output_type": "display_data"
    }
   ],
   "source": [
    "classification(clf_ov,X_new,x_test,y_new,y_test)"
   ]
  },
  {
   "cell_type": "code",
   "execution_count": 34,
   "metadata": {
    "execution": {
     "iopub.execute_input": "2021-08-19T22:20:12.240545Z",
     "iopub.status.busy": "2021-08-19T22:20:12.24012Z",
     "iopub.status.idle": "2021-08-19T22:20:12.636309Z",
     "shell.execute_reply": "2021-08-19T22:20:12.635103Z",
     "shell.execute_reply.started": "2021-08-19T22:20:12.240507Z"
    }
   },
   "outputs": [
    {
     "data": {
      "text/plain": [
       "<AxesSubplot:>"
      ]
     },
     "execution_count": 34,
     "metadata": {},
     "output_type": "execute_result"
    },
    {
     "data": {
      "image/png": "[encoded data removed]",
      "text/plain": [
       "<Figure size 432x288 with 1 Axes>"
      ]
     },
     "metadata": {
      "needs_background": "light"
     },
     "output_type": "display_data"
    }
   ],
   "source": [
    "#feature importance after over sampling \n",
    "feature_importance = pd.DataFrame(clf_ov.feature_importances_,index = X.columns,columns = ['Importance'])\n",
    "feature_importance['Importance'].plot.bar()"
   ]
  },
  {
   "cell_type": "code",
   "execution_count": 35,
   "metadata": {
    "execution": {
     "iopub.execute_input": "2021-08-19T22:20:52.089405Z",
     "iopub.status.busy": "2021-08-19T22:20:52.089033Z",
     "iopub.status.idle": "2021-08-19T22:20:52.096496Z",
     "shell.execute_reply": "2021-08-19T22:20:52.095184Z",
     "shell.execute_reply.started": "2021-08-19T22:20:52.089373Z"
    }
   },
   "outputs": [
    {
     "name": "stdout",
     "output_type": "stream",
     "text": [
      "['V3', 'V4', 'V7', 'V10', 'V11', 'V12', 'V14', 'V16', 'V17']\n"
     ]
    }
   ],
   "source": [
    "feature_importance = feature_importance[feature_importance['Importance'] >= 0.02]\n",
    "cols = list(feature_importance.index)\n",
    "print(cols)"
   ]
  },
  {
   "cell_type": "code",
   "execution_count": 36,
   "metadata": {
    "execution": {
     "iopub.execute_input": "2021-08-19T22:21:53.713501Z",
     "iopub.status.busy": "2021-08-19T22:21:53.713116Z",
     "iopub.status.idle": "2021-08-19T22:21:53.734334Z",
     "shell.execute_reply": "2021-08-19T22:21:53.733544Z",
     "shell.execute_reply.started": "2021-08-19T22:21:53.71347Z"
    }
   },
   "outputs": [],
   "source": [
    "x_new_os = X_new[cols]\n",
    "x_test_os = x_test[cols]"
   ]
  },
  {
   "cell_type": "code",
   "execution_count": 37,
   "metadata": {
    "execution": {
     "iopub.execute_input": "2021-08-19T22:22:28.141179Z",
     "iopub.status.busy": "2021-08-19T22:22:28.140823Z",
     "iopub.status.idle": "2021-08-19T22:27:09.308729Z",
     "shell.execute_reply": "2021-08-19T22:27:09.307578Z",
     "shell.execute_reply.started": "2021-08-19T22:22:28.141149Z"
    }
   },
   "outputs": [
    {
     "name": "stdout",
     "output_type": "stream",
     "text": [
      "================================================================================\n",
      "Test accuracy full data :  0.9991748885221726\n",
      "================================================================================\n",
      "The classification report for the full data \n",
      "\n",
      "              precision    recall  f1-score   support\n",
      "\n",
      "           0       1.00      1.00      1.00     56864\n",
      "           1       0.71      0.88      0.79        98\n",
      "\n",
      "    accuracy                           1.00     56962\n",
      "   macro avg       0.86      0.94      0.89     56962\n",
      "weighted avg       1.00      1.00      1.00     56962\n",
      "\n",
      "================================================================================\n",
      "The area under the curve for the full data:  0.9384677583751564\n",
      "================================================================================\n",
      "Confusion matrix: \n",
      " [[56829    35]\n",
      " [   12    86]]\n",
      "================================================================================\n",
      "================================================================================\n"
     ]
    },
    {
     "data": {
      "image/png": "[encoded data removed]",
      "text/plain": [
       "<Figure size 432x288 with 2 Axes>"
      ]
     },
     "metadata": {
      "needs_background": "light"
     },
     "output_type": "display_data"
    }
   ],
   "source": [
    "classification(clf_ov,x_new_os,x_test_os,y_new,y_test)"
   ]
  },
  {
   "cell_type": "code",
   "execution_count": 38,
   "metadata": {
    "execution": {
     "iopub.execute_input": "2021-08-19T22:30:27.466736Z",
     "iopub.status.busy": "2021-08-19T22:30:27.466234Z",
     "iopub.status.idle": "2021-08-19T22:30:27.505184Z",
     "shell.execute_reply": "2021-08-19T22:30:27.504351Z",
     "shell.execute_reply.started": "2021-08-19T22:30:27.466705Z"
    }
   },
   "outputs": [
    {
     "name": "stdout",
     "output_type": "stream",
     "text": [
      "227451\n",
      "394\n"
     ]
    }
   ],
   "source": [
    "#now lets try undersampling\n",
    "#first we split the 0s and 1s \n",
    "zeros = df[df['Class'] == 0]\n",
    "ones = df[df['Class'] == 1]\n",
    "print(len(zeros))\n",
    "print(len(ones))"
   ]
  },
  {
   "cell_type": "code",
   "execution_count": 39,
   "metadata": {
    "execution": {
     "iopub.execute_input": "2021-08-19T22:30:41.955183Z",
     "iopub.status.busy": "2021-08-19T22:30:41.954687Z",
     "iopub.status.idle": "2021-08-19T22:30:41.961474Z",
     "shell.execute_reply": "2021-08-19T22:30:41.960388Z",
     "shell.execute_reply.started": "2021-08-19T22:30:41.955152Z"
    }
   },
   "outputs": [],
   "source": [
    "zeros_undersampled = resample(zeros,n_samples = 378,random_state = 42)"
   ]
  },
  {
   "cell_type": "code",
   "execution_count": 40,
   "metadata": {
    "execution": {
     "iopub.execute_input": "2021-08-19T22:31:25.399873Z",
     "iopub.status.busy": "2021-08-19T22:31:25.399455Z",
     "iopub.status.idle": "2021-08-19T22:31:25.405718Z",
     "shell.execute_reply": "2021-08-19T22:31:25.404779Z",
     "shell.execute_reply.started": "2021-08-19T22:31:25.399842Z"
    }
   },
   "outputs": [],
   "source": [
    "re_merged_df = pd.concat([zeros_undersampled,ones],0)"
   ]
  },
  {
   "cell_type": "code",
   "execution_count": 41,
   "metadata": {
    "execution": {
     "iopub.execute_input": "2021-08-19T22:32:09.631582Z",
     "iopub.status.busy": "2021-08-19T22:32:09.631189Z",
     "iopub.status.idle": "2021-08-19T22:32:09.637949Z",
     "shell.execute_reply": "2021-08-19T22:32:09.636511Z",
     "shell.execute_reply.started": "2021-08-19T22:32:09.63155Z"
    }
   },
   "outputs": [],
   "source": [
    "x_train_u = re_merged_df.drop('Class',1)\n",
    "y_train_u = re_merged_df['Class']"
   ]
  },
  {
   "cell_type": "code",
   "execution_count": 63,
   "metadata": {
    "execution": {
     "iopub.execute_input": "2021-08-19T22:35:45.896534Z",
     "iopub.status.busy": "2021-08-19T22:35:45.896082Z",
     "iopub.status.idle": "2021-08-19T22:35:45.902739Z",
     "shell.execute_reply": "2021-08-19T22:35:45.901323Z",
     "shell.execute_reply.started": "2021-08-19T22:35:45.896498Z"
    }
   },
   "outputs": [],
   "source": [
    "clf_u = RandomForestClassifier()"
   ]
  },
  {
   "cell_type": "code",
   "execution_count": 64,
   "metadata": {
    "execution": {
     "iopub.execute_input": "2021-08-19T22:35:46.392259Z",
     "iopub.status.busy": "2021-08-19T22:35:46.391874Z",
     "iopub.status.idle": "2021-08-19T22:36:02.100775Z",
     "shell.execute_reply": "2021-08-19T22:36:02.099633Z",
     "shell.execute_reply.started": "2021-08-19T22:35:46.39222Z"
    }
   },
   "outputs": [
    {
     "name": "stdout",
     "output_type": "stream",
     "text": [
      "================================================================================\n",
      "Test accuracy full data :  0.9762122116498718\n",
      "================================================================================\n",
      "The classification report for the full data \n",
      "\n",
      "              precision    recall  f1-score   support\n",
      "\n",
      "           0       1.00      0.98      0.99     56864\n",
      "           1       0.06      0.94      0.12        98\n",
      "\n",
      "    accuracy                           0.98     56962\n",
      "   macro avg       0.53      0.96      0.55     56962\n",
      "weighted avg       1.00      0.98      0.99     56962\n",
      "\n",
      "================================================================================\n",
      "The area under the curve for the full data:  0.9575261203243257\n",
      "================================================================================\n",
      "Confusion matrix: \n",
      " [[55515  1349]\n",
      " [    6    92]]\n",
      "================================================================================\n",
      "================================================================================\n"
     ]
    },
    {
     "data": {
      "image/png": "[encoded data removed]",
      "text/plain": [
       "<Figure size 432x288 with 2 Axes>"
      ]
     },
     "metadata": {
      "needs_background": "light"
     },
     "output_type": "display_data"
    }
   ],
   "source": [
    "classification(clf_u,x_train_u,x_test,y_train_u,y_test)"
   ]
  },
  {
   "cell_type": "code",
   "execution_count": 65,
   "metadata": {},
   "outputs": [],
   "source": [
    "#we are going to try to down sample the class 0 then oversample the class 1 \n",
    "zeros_undersampled2 = resample(zeros,n_samples = 75000,random_state = 42)"
   ]
  },
  {
   "cell_type": "code",
   "execution_count": 66,
   "metadata": {},
   "outputs": [],
   "source": [
    "df_under_over = pd.concat([zeros_undersampled2,ones],0)"
   ]
  },
  {
   "cell_type": "code",
   "execution_count": 67,
   "metadata": {},
   "outputs": [],
   "source": [
    "x_under_over = df_under_over.drop('Class',1)\n",
    "y_under_over = df_under_over['Class']"
   ]
  },
  {
   "cell_type": "code",
   "execution_count": 68,
   "metadata": {},
   "outputs": [],
   "source": [
    "X_new2,y_new2= sm.fit_resample(x_under_over,y_under_over)"
   ]
  },
  {
   "cell_type": "code",
   "execution_count": 69,
   "metadata": {},
   "outputs": [
    {
     "name": "stdout",
     "output_type": "stream",
     "text": [
      "(150000, 29) (150000,)\n"
     ]
    }
   ],
   "source": [
    "print(X_new2.shape,y_new2.shape)"
   ]
  },
  {
   "cell_type": "code",
   "execution_count": 74,
   "metadata": {},
   "outputs": [],
   "source": [
    "clf_under_over = RandomForestClassifier()"
   ]
  },
  {
   "cell_type": "code",
   "execution_count": 75,
   "metadata": {},
   "outputs": [
    {
     "name": "stdout",
     "output_type": "stream",
     "text": [
      "================================================================================\n",
      "Test accuracy full data :  0.9993679997191109\n",
      "================================================================================\n",
      "The classification report for the full data \n",
      "\n",
      "              precision    recall  f1-score   support\n",
      "\n",
      "           0       1.00      1.00      1.00     56864\n",
      "           1       0.78      0.88      0.83        98\n",
      "\n",
      "    accuracy                           1.00     56962\n",
      "   macro avg       0.89      0.94      0.91     56962\n",
      "weighted avg       1.00      1.00      1.00     56962\n",
      "\n",
      "================================================================================\n",
      "The area under the curve for the full data:  0.9385644803785329\n",
      "================================================================================\n",
      "Confusion matrix: \n",
      " [[56840    24]\n",
      " [   12    86]]\n",
      "================================================================================\n",
      "================================================================================\n"
     ]
    },
    {
     "data": {
      "image/png": "[encoded data removed]",
      "text/plain": [
       "<Figure size 432x288 with 2 Axes>"
      ]
     },
     "metadata": {
      "needs_background": "light"
     },
     "output_type": "display_data"
    }
   ],
   "source": [
    "classification(clf_under_over,X_new2,x_test,y_new2,y_test)"
   ]
  },
  {
   "cell_type": "code",
   "execution_count": 51,
   "metadata": {
    "execution": {
     "iopub.execute_input": "2021-08-19T19:27:45.525105Z",
     "iopub.status.busy": "2021-08-19T19:27:45.524736Z",
     "iopub.status.idle": "2021-08-19T19:27:45.529473Z",
     "shell.execute_reply": "2021-08-19T19:27:45.528414Z",
     "shell.execute_reply.started": "2021-08-19T19:27:45.525076Z"
    }
   },
   "outputs": [],
   "source": [
    "#now we are going to remove the outliers from the data then redo the classification again"
   ]
  },
  {
   "cell_type": "code",
   "execution_count": 52,
   "metadata": {
    "execution": {
     "iopub.execute_input": "2021-08-19T19:42:02.618116Z",
     "iopub.status.busy": "2021-08-19T19:42:02.617691Z",
     "iopub.status.idle": "2021-08-19T19:42:02.674867Z",
     "shell.execute_reply": "2021-08-19T19:42:02.67377Z",
     "shell.execute_reply.started": "2021-08-19T19:42:02.618081Z"
    }
   },
   "outputs": [],
   "source": [
    "#first we are going to split the no fraud data and the fraud data (remove the outliers from the no fraud data only since the data is heavily unbalanced and \n",
    "#we need all the 1s)\n",
    "no_fraud = df[df['Class'] == 0]\n",
    "fraud = df[df['Class'] == 1]"
   ]
  },
  {
   "cell_type": "code",
   "execution_count": 53,
   "metadata": {
    "execution": {
     "iopub.execute_input": "2021-08-19T19:42:03.790448Z",
     "iopub.status.busy": "2021-08-19T19:42:03.790009Z",
     "iopub.status.idle": "2021-08-19T19:42:03.797662Z",
     "shell.execute_reply": "2021-08-19T19:42:03.796388Z",
     "shell.execute_reply.started": "2021-08-19T19:42:03.79041Z"
    }
   },
   "outputs": [
    {
     "name": "stdout",
     "output_type": "stream",
     "text": [
      "Fraud shape:  (394, 30) \n",
      "No fraud shape:  (227451, 30)\n"
     ]
    }
   ],
   "source": [
    "print('Fraud shape: ', fraud.shape, '\\nNo fraud shape: ', no_fraud.shape)"
   ]
  },
  {
   "cell_type": "code",
   "execution_count": 55,
   "metadata": {
    "execution": {
     "iopub.execute_input": "2021-08-19T19:42:04.739056Z",
     "iopub.status.busy": "2021-08-19T19:42:04.738603Z",
     "iopub.status.idle": "2021-08-19T19:42:08.79082Z",
     "shell.execute_reply": "2021-08-19T19:42:08.789796Z",
     "shell.execute_reply.started": "2021-08-19T19:42:04.739017Z"
    },
    "jupyter": {
     "outputs_hidden": true
    }
   },
   "outputs": [
    {
     "data": {
      "image/png": "[encoded data removed]",
      "text/plain": [
       "<Figure size 432x288 with 1 Axes>"
      ]
     },
     "metadata": {
      "needs_background": "light"
     },
     "output_type": "display_data"
    },
    {
     "data": {
      "image/png": "[encoded data removed]",
      "text/plain": [
       "<Figure size 432x288 with 1 Axes>"
      ]
     },
     "metadata": {
      "needs_background": "light"
     },
     "output_type": "display_data"
    },
    {
     "data": {
      "image/png": "[encoded data removed]",
      "text/plain": [
       "<Figure size 432x288 with 1 Axes>"
      ]
     },
     "metadata": {
      "needs_background": "light"
     },
     "output_type": "display_data"
    },
    {
     "data": {
      "image/png": "[encoded data removed]",
      "text/plain": [
       "<Figure size 432x288 with 1 Axes>"
      ]
     },
     "metadata": {
      "needs_background": "light"
     },
     "output_type": "display_data"
    },
    {
     "data": {
      "image/png": "[encoded data removed]",
      "text/plain": [
       "<Figure size 432x288 with 1 Axes>"
      ]
     },
     "metadata": {
      "needs_background": "light"
     },
     "output_type": "display_data"
    },
    {
     "data": {
      "image/png": "[encoded data removed]",
      "text/plain": [
       "<Figure size 432x288 with 1 Axes>"
      ]
     },
     "metadata": {
      "needs_background": "light"
     },
     "output_type": "display_data"
    },
    {
     "data": {
      "image/png": "[encoded data removed]",
      "text/plain": [
       "<Figure size 432x288 with 1 Axes>"
      ]
     },
     "metadata": {
      "needs_background": "light"
     },
     "output_type": "display_data"
    },
    {
     "data": {
      "image/png": "[encoded data removed]",
      "text/plain": [
       "<Figure size 432x288 with 1 Axes>"
      ]
     },
     "metadata": {
      "needs_background": "light"
     },
     "output_type": "display_data"
    },
    {
     "data": {
      "image/png": "[encoded data removed]",
      "text/plain": [
       "<Figure size 432x288 with 1 Axes>"
      ]
     },
     "metadata": {
      "needs_background": "light"
     },
     "output_type": "display_data"
    },
    {
     "data": {
      "image/png": "[encoded data removed]",
      "text/plain": [
       "<Figure size 432x288 with 1 Axes>"
      ]
     },
     "metadata": {
      "needs_background": "light"
     },
     "output_type": "display_data"
    },
    {
     "data": {
      "image/png": "[encoded data removed]",
      "text/plain": [
       "<Figure size 432x288 with 1 Axes>"
      ]
     },
     "metadata": {
      "needs_background": "light"
     },
     "output_type": "display_data"
    },
    {
     "data": {
      "image/png": "[encoded data removed]",
      "text/plain": [
       "<Figure size 432x288 with 1 Axes>"
      ]
     },
     "metadata": {
      "needs_background": "light"
     },
     "output_type": "display_data"
    },
    {
     "data": {
      "image/png": "[encoded data removed]",
      "text/plain": [
       "<Figure size 432x288 with 1 Axes>"
      ]
     },
     "metadata": {
      "needs_background": "light"
     },
     "output_type": "display_data"
    },
    {
     "data": {
      "image/png": "[encoded data removed]",
      "text/plain": [
       "<Figure size 432x288 with 1 Axes>"
      ]
     },
     "metadata": {
      "needs_background": "light"
     },
     "output_type": "display_data"
    },
    {
     "data": {
      "image/png": "[encoded data removed]",
      "text/plain": [
       "<Figure size 432x288 with 1 Axes>"
      ]
     },
     "metadata": {
      "needs_background": "light"
     },
     "output_type": "display_data"
    },
    {
     "data": {
      "image/png": "[encoded data removed]",
      "text/plain": [
       "<Figure size 432x288 with 1 Axes>"
      ]
     },
     "metadata": {
      "needs_background": "light"
     },
     "output_type": "display_data"
    },
    {
     "data": {
      "image/png": "[encoded data removed]",
      "text/plain": [
       "<Figure size 432x288 with 1 Axes>"
      ]
     },
     "metadata": {
      "needs_background": "light"
     },
     "output_type": "display_data"
    },
    {
     "data": {
      "image/png": "[encoded data removed]",
      "text/plain": [
       "<Figure size 432x288 with 1 Axes>"
      ]
     },
     "metadata": {
      "needs_background": "light"
     },
     "output_type": "display_data"
    },
    {
     "data": {
      "image/png": "[encoded data removed]",
      "text/plain": [
       "<Figure size 432x288 with 1 Axes>"
      ]
     },
     "metadata": {
      "needs_background": "light"
     },
     "output_type": "display_data"
    },
    {
     "data": {
      "image/png": "[encoded data removed]",
      "text/plain": [
       "<Figure size 432x288 with 1 Axes>"
      ]
     },
     "metadata": {
      "needs_background": "light"
     },
     "output_type": "display_data"
    },
    {
     "data": {
      "image/png": "[encoded data removed]",
      "text/plain": [
       "<Figure size 432x288 with 1 Axes>"
      ]
     },
     "metadata": {
      "needs_background": "light"
     },
     "output_type": "display_data"
    },
    {
     "data": {
      "image/png": "[encoded data removed]",
      "text/plain": [
       "<Figure size 432x288 with 1 Axes>"
      ]
     },
     "metadata": {
      "needs_background": "light"
     },
     "output_type": "display_data"
    },
    {
     "data": {
      "image/png": "[encoded data removed]",
      "text/plain": [
       "<Figure size 432x288 with 1 Axes>"
      ]
     },
     "metadata": {
      "needs_background": "light"
     },
     "output_type": "display_data"
    },
    {
     "data": {
      "image/png": "[encoded data removed]",
      "text/plain": [
       "<Figure size 432x288 with 1 Axes>"
      ]
     },
     "metadata": {
      "needs_background": "light"
     },
     "output_type": "display_data"
    },
    {
     "data": {
      "image/png": "[encoded data removed]",
      "text/plain": [
       "<Figure size 432x288 with 1 Axes>"
      ]
     },
     "metadata": {
      "needs_background": "light"
     },
     "output_type": "display_data"
    },
    {
     "data": {
      "image/png": "[encoded data removed]",
      "text/plain": [
       "<Figure size 432x288 with 1 Axes>"
      ]
     },
     "metadata": {
      "needs_background": "light"
     },
     "output_type": "display_data"
    },
    {
     "data": {
      "image/png": "[encoded data removed]",
      "text/plain": [
       "<Figure size 432x288 with 1 Axes>"
      ]
     },
     "metadata": {
      "needs_background": "light"
     },
     "output_type": "display_data"
    },
    {
     "data": {
      "image/png": "[encoded data removed]",
      "text/plain": [
       "<Figure size 432x288 with 1 Axes>"
      ]
     },
     "metadata": {
      "needs_background": "light"
     },
     "output_type": "display_data"
    }
   ],
   "source": [
    "#printing a boxplot for V1 : V28 features of the no-fraud data (class 0 )\n",
    "for i in no_fraud.drop(['Class','Amount'],1).columns:\n",
    "    sns.boxplot(x = i, data = no_fraud)\n",
    "    plt.show()"
   ]
  },
  {
   "cell_type": "code",
   "execution_count": 57,
   "metadata": {
    "execution": {
     "iopub.execute_input": "2021-08-19T19:42:13.109828Z",
     "iopub.status.busy": "2021-08-19T19:42:13.109342Z",
     "iopub.status.idle": "2021-08-19T19:42:13.221716Z",
     "shell.execute_reply": "2021-08-19T19:42:13.220496Z",
     "shell.execute_reply.started": "2021-08-19T19:42:13.109792Z"
    }
   },
   "outputs": [],
   "source": [
    "#we can see that there are alot of outliers is different columns so we are going to drop the outliers outside of 3 standard deviation of every column \n",
    "abs_z_scores = np.abs(no_fraud.drop(['Amount','Class'],1))\n",
    "filtered_entries = (abs_z_scores < 3).all(axis=1)\n",
    "no_fraud = no_fraud[filtered_entries]"
   ]
  },
  {
   "cell_type": "code",
   "execution_count": 58,
   "metadata": {
    "execution": {
     "iopub.execute_input": "2021-08-19T19:42:14.154605Z",
     "iopub.status.busy": "2021-08-19T19:42:14.154189Z",
     "iopub.status.idle": "2021-08-19T19:42:14.160349Z",
     "shell.execute_reply": "2021-08-19T19:42:14.159083Z",
     "shell.execute_reply.started": "2021-08-19T19:42:14.154573Z"
    }
   },
   "outputs": [
    {
     "name": "stdout",
     "output_type": "stream",
     "text": [
      "Shape of no_fraud data after dropping all the outliers (182543, 30)\n"
     ]
    }
   ],
   "source": [
    "print('Shape of no_fraud data after dropping all the outliers', no_fraud.shape)"
   ]
  },
  {
   "cell_type": "code",
   "execution_count": 59,
   "metadata": {
    "execution": {
     "iopub.execute_input": "2021-08-19T19:42:17.052819Z",
     "iopub.status.busy": "2021-08-19T19:42:17.05238Z",
     "iopub.status.idle": "2021-08-19T19:42:20.719511Z",
     "shell.execute_reply": "2021-08-19T19:42:20.71832Z",
     "shell.execute_reply.started": "2021-08-19T19:42:17.052783Z"
    },
    "jupyter": {
     "outputs_hidden": true
    }
   },
   "outputs": [
    {
     "data": {
      "image/png": "[encoded data removed]",
      "text/plain": [
       "<Figure size 432x288 with 1 Axes>"
      ]
     },
     "metadata": {
      "needs_background": "light"
     },
     "output_type": "display_data"
    },
    {
     "data": {
      "image/png": "[encoded data removed]",
      "text/plain": [
       "<Figure size 432x288 with 1 Axes>"
      ]
     },
     "metadata": {
      "needs_background": "light"
     },
     "output_type": "display_data"
    },
    {
     "data": {
      "image/png": "[encoded data removed]",
      "text/plain": [
       "<Figure size 432x288 with 1 Axes>"
      ]
     },
     "metadata": {
      "needs_background": "light"
     },
     "output_type": "display_data"
    },
    {
     "data": {
      "image/png": "[encoded data removed]",
      "text/plain": [
       "<Figure size 432x288 with 1 Axes>"
      ]
     },
     "metadata": {
      "needs_background": "light"
     },
     "output_type": "display_data"
    },
    {
     "data": {
      "image/png": "[encoded data removed]",
      "text/plain": [
       "<Figure size 432x288 with 1 Axes>"
      ]
     },
     "metadata": {
      "needs_background": "light"
     },
     "output_type": "display_data"
    },
    {
     "data": {
      "image/png": "[encoded data removed]",
      "text/plain": [
       "<Figure size 432x288 with 1 Axes>"
      ]
     },
     "metadata": {
      "needs_background": "light"
     },
     "output_type": "display_data"
    },
    {
     "data": {
      "image/png": "[encoded data removed]",
      "text/plain": [
       "<Figure size 432x288 with 1 Axes>"
      ]
     },
     "metadata": {
      "needs_background": "light"
     },
     "output_type": "display_data"
    },
    {
     "data": {
      "image/png": "[encoded data removed]",
      "text/plain": [
       "<Figure size 432x288 with 1 Axes>"
      ]
     },
     "metadata": {
      "needs_background": "light"
     },
     "output_type": "display_data"
    },
    {
     "data": {
      "image/png": "[encoded data removed]",
      "text/plain": [
       "<Figure size 432x288 with 1 Axes>"
      ]
     },
     "metadata": {
      "needs_background": "light"
     },
     "output_type": "display_data"
    },
    {
     "data": {
      "image/png": "[encoded data removed]",
      "text/plain": [
       "<Figure size 432x288 with 1 Axes>"
      ]
     },
     "metadata": {
      "needs_background": "light"
     },
     "output_type": "display_data"
    },
    {
     "data": {
      "image/png": "[encoded data removed]",
      "text/plain": [
       "<Figure size 432x288 with 1 Axes>"
      ]
     },
     "metadata": {
      "needs_background": "light"
     },
     "output_type": "display_data"
    },
    {
     "data": {
      "image/png": "[encoded data removed]",
      "text/plain": [
       "<Figure size 432x288 with 1 Axes>"
      ]
     },
     "metadata": {
      "needs_background": "light"
     },
     "output_type": "display_data"
    },
    {
     "data": {
      "image/png": "[encoded data removed]",
      "text/plain": [
       "<Figure size 432x288 with 1 Axes>"
      ]
     },
     "metadata": {
      "needs_background": "light"
     },
     "output_type": "display_data"
    },
    {
     "data": {
      "image/png": "[encoded data removed]",
      "text/plain": [
       "<Figure size 432x288 with 1 Axes>"
      ]
     },
     "metadata": {
      "needs_background": "light"
     },
     "output_type": "display_data"
    },
    {
     "data": {
      "image/png": "[encoded data removed]",
      "text/plain": [
       "<Figure size 432x288 with 1 Axes>"
      ]
     },
     "metadata": {
      "needs_background": "light"
     },
     "output_type": "display_data"
    },
    {
     "data": {
      "image/png": "[encoded data removed]",
      "text/plain": [
       "<Figure size 432x288 with 1 Axes>"
      ]
     },
     "metadata": {
      "needs_background": "light"
     },
     "output_type": "display_data"
    },
    {
     "data": {
      "image/png": "[encoded data removed]",
      "text/plain": [
       "<Figure size 432x288 with 1 Axes>"
      ]
     },
     "metadata": {
      "needs_background": "light"
     },
     "output_type": "display_data"
    },
    {
     "data": {
      "image/png": "[encoded data removed]",
      "text/plain": [
       "<Figure size 432x288 with 1 Axes>"
      ]
     },
     "metadata": {
      "needs_background": "light"
     },
     "output_type": "display_data"
    },
    {
     "data": {
      "image/png": "[encoded data removed]",
      "text/plain": [
       "<Figure size 432x288 with 1 Axes>"
      ]
     },
     "metadata": {
      "needs_background": "light"
     },
     "output_type": "display_data"
    },
    {
     "data": {
      "image/png": "[encoded data removed]",
      "text/plain": [
       "<Figure size 432x288 with 1 Axes>"
      ]
     },
     "metadata": {
      "needs_background": "light"
     },
     "output_type": "display_data"
    },
    {
     "data": {
      "image/png": "[encoded data removed]",
      "text/plain": [
       "<Figure size 432x288 with 1 Axes>"
      ]
     },
     "metadata": {
      "needs_background": "light"
     },
     "output_type": "display_data"
    },
    {
     "data": {
      "image/png": "[encoded data removed]",
      "text/plain": [
       "<Figure size 432x288 with 1 Axes>"
      ]
     },
     "metadata": {
      "needs_background": "light"
     },
     "output_type": "display_data"
    },
    {
     "data": {
      "image/png": "[encoded data removed]",
      "text/plain": [
       "<Figure size 432x288 with 1 Axes>"
      ]
     },
     "metadata": {
      "needs_background": "light"
     },
     "output_type": "display_data"
    },
    {
     "data": {
      "image/png": "[encoded data removed]",
      "text/plain": [
       "<Figure size 432x288 with 1 Axes>"
      ]
     },
     "metadata": {
      "needs_background": "light"
     },
     "output_type": "display_data"
    },
    {
     "data": {
      "image/png": "[encoded data removed]",
      "text/plain": [
       "<Figure size 432x288 with 1 Axes>"
      ]
     },
     "metadata": {
      "needs_background": "light"
     },
     "output_type": "display_data"
    },
    {
     "data": {
      "image/png": "[encoded data removed]",
      "text/plain": [
       "<Figure size 432x288 with 1 Axes>"
      ]
     },
     "metadata": {
      "needs_background": "light"
     },
     "output_type": "display_data"
    },
    {
     "data": {
      "image/png": "[encoded data removed]",
      "text/plain": [
       "<Figure size 432x288 with 1 Axes>"
      ]
     },
     "metadata": {
      "needs_background": "light"
     },
     "output_type": "display_data"
    },
    {
     "data": {
      "image/png": "[encoded data removed]",
      "text/plain": [
       "<Figure size 432x288 with 1 Axes>"
      ]
     },
     "metadata": {
      "needs_background": "light"
     },
     "output_type": "display_data"
    }
   ],
   "source": [
    "#ploting box plots again for the V1:V28 columns after removing the outliers \n",
    "for i in no_fraud.drop(['Class','Amount'],1).columns:\n",
    "    sns.boxplot(x = i, data = no_fraud)\n",
    "    plt.show()"
   ]
  },
  {
   "cell_type": "code",
   "execution_count": 60,
   "metadata": {
    "execution": {
     "iopub.execute_input": "2021-08-19T19:42:22.99558Z",
     "iopub.status.busy": "2021-08-19T19:42:22.995215Z",
     "iopub.status.idle": "2021-08-19T19:42:23.02053Z",
     "shell.execute_reply": "2021-08-19T19:42:23.019718Z",
     "shell.execute_reply.started": "2021-08-19T19:42:22.995548Z"
    }
   },
   "outputs": [],
   "source": [
    "# we can see that the data for each column looks abit better after  removing the outliers, no we are going to merge the columns again \n",
    "df_no_outliers = pd.concat([fraud,no_fraud],0)"
   ]
  },
  {
   "cell_type": "code",
   "execution_count": 61,
   "metadata": {
    "execution": {
     "iopub.execute_input": "2021-08-19T19:42:24.240272Z",
     "iopub.status.busy": "2021-08-19T19:42:24.239698Z",
     "iopub.status.idle": "2021-08-19T19:42:24.27817Z",
     "shell.execute_reply": "2021-08-19T19:42:24.27719Z",
     "shell.execute_reply.started": "2021-08-19T19:42:24.240234Z"
    }
   },
   "outputs": [],
   "source": [
    "#now we are going to split the data again and train the model and see if it improves \n",
    "X_no = df_no_outliers.drop('Class',1)\n",
    "y_no = df_no_outliers['Class']"
   ]
  },
  {
   "cell_type": "code",
   "execution_count": 76,
   "metadata": {},
   "outputs": [],
   "source": [
    "clf_no_out = RandomForestClassifier()"
   ]
  },
  {
   "cell_type": "code",
   "execution_count": 77,
   "metadata": {
    "execution": {
     "iopub.execute_input": "2021-08-19T19:42:31.551131Z",
     "iopub.status.busy": "2021-08-19T19:42:31.550596Z",
     "iopub.status.idle": "2021-08-19T19:46:12.032136Z",
     "shell.execute_reply": "2021-08-19T19:46:12.03116Z",
     "shell.execute_reply.started": "2021-08-19T19:42:31.551096Z"
    }
   },
   "outputs": [
    {
     "name": "stdout",
     "output_type": "stream",
     "text": [
      "================================================================================\n",
      "Test accuracy full data :  0.9156104069379586\n",
      "================================================================================\n",
      "The classification report for the full data \n",
      "\n",
      "              precision    recall  f1-score   support\n",
      "\n",
      "           0       1.00      0.92      0.96     56864\n",
      "           1       0.02      0.88      0.03        98\n",
      "\n",
      "    accuracy                           0.92     56962\n",
      "   macro avg       0.51      0.90      0.50     56962\n",
      "weighted avg       1.00      0.92      0.95     56962\n",
      "\n",
      "================================================================================\n",
      "The area under the curve for the full data:  0.8966135096413353\n",
      "================================================================================\n",
      "Confusion matrix: \n",
      " [[52069  4795]\n",
      " [   12    86]]\n",
      "================================================================================\n",
      "================================================================================\n"
     ]
    },
    {
     "data": {
      "image/png": "[encoded data removed]",
      "text/plain": [
       "<Figure size 432x288 with 2 Axes>"
      ]
     },
     "metadata": {
      "needs_background": "light"
     },
     "output_type": "display_data"
    }
   ],
   "source": [
    "classification(clf_no_out,X_no,x_test,y_no,y_test)"
   ]
  },
  {
   "cell_type": "code",
   "execution_count": 78,
   "metadata": {},
   "outputs": [],
   "source": [
    "'''\n",
    "In conclusion:\n",
    "we used the random forest with many version of the data:\n",
    "we tried with the full test data and got precision of  0.97 for the 1 class, a recall of  0.78 for the 1 class, and an AUC of \n",
    "0.887 then we used the feature importance attribute to select the most important features and redid the model, and got a\n",
    "precision of 0.99 for the 1 class and a recall of 0.79 for the 1 class and an AUC of 0.892. then we tried another approach by\n",
    "using the SMOTE function in the imblearn library to get more values for the 1 class to balance the data, then belt a model for\n",
    "the new data set and got a precision of 0.89 for the 1 class, a recall of 0.86 and an AUC of 0.928, then we tried the feature\n",
    "importance attribute on this model and redid the model and go 0.71 precision for the 1 class, recall fof 0.88 for the one class\n",
    "and an AUC of 0.938. then we tried undersampling by taking a random amount of rows from the 0 class equal to the number of rows\n",
    "to the 1 class and redid the model and got 0.06 precision, 0.94 reclass for the 1 class and an AUC of 0.957. then we tried \n",
    "undersampling the 0 class to 75000 and oversample the 1 class to match that number and redid the model and got a precision of \n",
    "0.78 and a recall of 0.88 for the 1 class and an AUC of 0.938, and finally we tried removing the outliers from each column and \n",
    "redid the model and go 0.02 precision, 0.88 recall for the 1 class and an AUC of 0.8966\n",
    "'''\n"
   ]
  },
  {
   "cell_type": "code",
   "execution_count": null,
   "metadata": {},
   "outputs": [],
   "source": []
  }
 ],
 "metadata": {
  "kernelspec": {
   "display_name": "Python 3",
   "language": "python",
   "name": "python3"
  },
  "language_info": {
   "codemirror_mode": {
    "name": "ipython",
    "version": 3
   },
   "file_extension": ".py",
   "mimetype": "text/x-python",
   "name": "python",
   "nbconvert_exporter": "python",
   "pygments_lexer": "ipython3",
   "version": "3.8.8"
  }
 },
 "nbformat": 4,
 "nbformat_minor": 4
}
